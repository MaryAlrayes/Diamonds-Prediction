{
  "cells": [
    {
      "cell_type": "code",
      "execution_count": 4,
      "metadata": {
        "colab": {
          "base_uri": "https://localhost:8080/"
        },
        "id": "OskO01IBSFyy",
        "outputId": "b8150dd9-5046-4655-989e-ea46841d7b48"
      },
      "outputs": [
        {
          "output_type": "stream",
          "name": "stdout",
          "text": [
            "Mounted at /content/gdrive\n"
          ]
        }
      ],
      "source": [
        "from google.colab import drive\n",
        "drive.mount(\"/content/gdrive\")"
      ]
    },
    {
      "cell_type": "code",
      "execution_count": 2,
      "metadata": {
        "id": "Hqb760AyUAWz"
      },
      "outputs": [],
      "source": [
        "import pandas as pd\n",
        "import numpy as np\n",
        "import seaborn as sns\n",
        "import matplotlib.pyplot as plt"
      ]
    },
    {
      "cell_type": "markdown",
      "metadata": {
        "id": "nFUQ2dwfV50y"
      },
      "source": [
        "# Reading Data\n",
        "\n",
        "\n"
      ]
    },
    {
      "cell_type": "code",
      "execution_count": 5,
      "metadata": {
        "id": "83khENctUa7l"
      },
      "outputs": [],
      "source": [
        "path = '/content/gdrive/MyDrive/datasets/diamond/train.csv'\n",
        "data = pd.read_csv(path,)\n"
      ]
    },
    {
      "cell_type": "code",
      "execution_count": null,
      "metadata": {
        "colab": {
          "base_uri": "https://localhost:8080/",
          "height": 206
        },
        "id": "uWyfZhlVWOQe",
        "outputId": "32c7e879-d986-4855-b840-01c14ff1f396"
      },
      "outputs": [
        {
          "output_type": "execute_result",
          "data": {
            "text/plain": [
              "   Id  carat      cut color clarity  depth  table  price     x     y     z\n",
              "0   1   1.06    Ideal     I     SI2   61.8   57.0   4270  6.57  6.60  4.07\n",
              "1   2   1.51  Premium     G    VVS2   60.9   58.0  15164  7.38  7.42  4.51\n",
              "2   3   0.32    Ideal     F     VS2   61.3   56.0    828  4.43  4.41  2.71\n",
              "3   4   0.53    Ideal     G     VS2   61.2   56.0   1577  5.19  5.22  3.19\n",
              "4   5   0.70  Premium     H    VVS2   61.0   57.0   2596  5.76  5.72  3.50"
            ],
            "text/html": [
              "\n",
              "  <div id=\"df-8d77c181-ef1c-41d0-8499-8e859db53bc5\" class=\"colab-df-container\">\n",
              "    <div>\n",
              "<style scoped>\n",
              "    .dataframe tbody tr th:only-of-type {\n",
              "        vertical-align: middle;\n",
              "    }\n",
              "\n",
              "    .dataframe tbody tr th {\n",
              "        vertical-align: top;\n",
              "    }\n",
              "\n",
              "    .dataframe thead th {\n",
              "        text-align: right;\n",
              "    }\n",
              "</style>\n",
              "<table border=\"1\" class=\"dataframe\">\n",
              "  <thead>\n",
              "    <tr style=\"text-align: right;\">\n",
              "      <th></th>\n",
              "      <th>Id</th>\n",
              "      <th>carat</th>\n",
              "      <th>cut</th>\n",
              "      <th>color</th>\n",
              "      <th>clarity</th>\n",
              "      <th>depth</th>\n",
              "      <th>table</th>\n",
              "      <th>price</th>\n",
              "      <th>x</th>\n",
              "      <th>y</th>\n",
              "      <th>z</th>\n",
              "    </tr>\n",
              "  </thead>\n",
              "  <tbody>\n",
              "    <tr>\n",
              "      <th>0</th>\n",
              "      <td>1</td>\n",
              "      <td>1.06</td>\n",
              "      <td>Ideal</td>\n",
              "      <td>I</td>\n",
              "      <td>SI2</td>\n",
              "      <td>61.8</td>\n",
              "      <td>57.0</td>\n",
              "      <td>4270</td>\n",
              "      <td>6.57</td>\n",
              "      <td>6.60</td>\n",
              "      <td>4.07</td>\n",
              "    </tr>\n",
              "    <tr>\n",
              "      <th>1</th>\n",
              "      <td>2</td>\n",
              "      <td>1.51</td>\n",
              "      <td>Premium</td>\n",
              "      <td>G</td>\n",
              "      <td>VVS2</td>\n",
              "      <td>60.9</td>\n",
              "      <td>58.0</td>\n",
              "      <td>15164</td>\n",
              "      <td>7.38</td>\n",
              "      <td>7.42</td>\n",
              "      <td>4.51</td>\n",
              "    </tr>\n",
              "    <tr>\n",
              "      <th>2</th>\n",
              "      <td>3</td>\n",
              "      <td>0.32</td>\n",
              "      <td>Ideal</td>\n",
              "      <td>F</td>\n",
              "      <td>VS2</td>\n",
              "      <td>61.3</td>\n",
              "      <td>56.0</td>\n",
              "      <td>828</td>\n",
              "      <td>4.43</td>\n",
              "      <td>4.41</td>\n",
              "      <td>2.71</td>\n",
              "    </tr>\n",
              "    <tr>\n",
              "      <th>3</th>\n",
              "      <td>4</td>\n",
              "      <td>0.53</td>\n",
              "      <td>Ideal</td>\n",
              "      <td>G</td>\n",
              "      <td>VS2</td>\n",
              "      <td>61.2</td>\n",
              "      <td>56.0</td>\n",
              "      <td>1577</td>\n",
              "      <td>5.19</td>\n",
              "      <td>5.22</td>\n",
              "      <td>3.19</td>\n",
              "    </tr>\n",
              "    <tr>\n",
              "      <th>4</th>\n",
              "      <td>5</td>\n",
              "      <td>0.70</td>\n",
              "      <td>Premium</td>\n",
              "      <td>H</td>\n",
              "      <td>VVS2</td>\n",
              "      <td>61.0</td>\n",
              "      <td>57.0</td>\n",
              "      <td>2596</td>\n",
              "      <td>5.76</td>\n",
              "      <td>5.72</td>\n",
              "      <td>3.50</td>\n",
              "    </tr>\n",
              "  </tbody>\n",
              "</table>\n",
              "</div>\n",
              "    <div class=\"colab-df-buttons\">\n",
              "\n",
              "  <div class=\"colab-df-container\">\n",
              "    <button class=\"colab-df-convert\" onclick=\"convertToInteractive('df-8d77c181-ef1c-41d0-8499-8e859db53bc5')\"\n",
              "            title=\"Convert this dataframe to an interactive table.\"\n",
              "            style=\"display:none;\">\n",
              "\n",
              "  <svg xmlns=\"http://www.w3.org/2000/svg\" height=\"24px\" viewBox=\"0 -960 960 960\">\n",
              "    <path d=\"M120-120v-720h720v720H120Zm60-500h600v-160H180v160Zm220 220h160v-160H400v160Zm0 220h160v-160H400v160ZM180-400h160v-160H180v160Zm440 0h160v-160H620v160ZM180-180h160v-160H180v160Zm440 0h160v-160H620v160Z\"/>\n",
              "  </svg>\n",
              "    </button>\n",
              "\n",
              "  <style>\n",
              "    .colab-df-container {\n",
              "      display:flex;\n",
              "      gap: 12px;\n",
              "    }\n",
              "\n",
              "    .colab-df-convert {\n",
              "      background-color: #E8F0FE;\n",
              "      border: none;\n",
              "      border-radius: 50%;\n",
              "      cursor: pointer;\n",
              "      display: none;\n",
              "      fill: #1967D2;\n",
              "      height: 32px;\n",
              "      padding: 0 0 0 0;\n",
              "      width: 32px;\n",
              "    }\n",
              "\n",
              "    .colab-df-convert:hover {\n",
              "      background-color: #E2EBFA;\n",
              "      box-shadow: 0px 1px 2px rgba(60, 64, 67, 0.3), 0px 1px 3px 1px rgba(60, 64, 67, 0.15);\n",
              "      fill: #174EA6;\n",
              "    }\n",
              "\n",
              "    .colab-df-buttons div {\n",
              "      margin-bottom: 4px;\n",
              "    }\n",
              "\n",
              "    [theme=dark] .colab-df-convert {\n",
              "      background-color: #3B4455;\n",
              "      fill: #D2E3FC;\n",
              "    }\n",
              "\n",
              "    [theme=dark] .colab-df-convert:hover {\n",
              "      background-color: #434B5C;\n",
              "      box-shadow: 0px 1px 3px 1px rgba(0, 0, 0, 0.15);\n",
              "      filter: drop-shadow(0px 1px 2px rgba(0, 0, 0, 0.3));\n",
              "      fill: #FFFFFF;\n",
              "    }\n",
              "  </style>\n",
              "\n",
              "    <script>\n",
              "      const buttonEl =\n",
              "        document.querySelector('#df-8d77c181-ef1c-41d0-8499-8e859db53bc5 button.colab-df-convert');\n",
              "      buttonEl.style.display =\n",
              "        google.colab.kernel.accessAllowed ? 'block' : 'none';\n",
              "\n",
              "      async function convertToInteractive(key) {\n",
              "        const element = document.querySelector('#df-8d77c181-ef1c-41d0-8499-8e859db53bc5');\n",
              "        const dataTable =\n",
              "          await google.colab.kernel.invokeFunction('convertToInteractive',\n",
              "                                                    [key], {});\n",
              "        if (!dataTable) return;\n",
              "\n",
              "        const docLinkHtml = 'Like what you see? Visit the ' +\n",
              "          '<a target=\"_blank\" href=https://colab.research.google.com/notebooks/data_table.ipynb>data table notebook</a>'\n",
              "          + ' to learn more about interactive tables.';\n",
              "        element.innerHTML = '';\n",
              "        dataTable['output_type'] = 'display_data';\n",
              "        await google.colab.output.renderOutput(dataTable, element);\n",
              "        const docLink = document.createElement('div');\n",
              "        docLink.innerHTML = docLinkHtml;\n",
              "        element.appendChild(docLink);\n",
              "      }\n",
              "    </script>\n",
              "  </div>\n",
              "\n",
              "\n",
              "<div id=\"df-715d4658-d290-4fd3-b67e-b28c6c80d0ad\">\n",
              "  <button class=\"colab-df-quickchart\" onclick=\"quickchart('df-715d4658-d290-4fd3-b67e-b28c6c80d0ad')\"\n",
              "            title=\"Suggest charts\"\n",
              "            style=\"display:none;\">\n",
              "\n",
              "<svg xmlns=\"http://www.w3.org/2000/svg\" height=\"24px\"viewBox=\"0 0 24 24\"\n",
              "     width=\"24px\">\n",
              "    <g>\n",
              "        <path d=\"M19 3H5c-1.1 0-2 .9-2 2v14c0 1.1.9 2 2 2h14c1.1 0 2-.9 2-2V5c0-1.1-.9-2-2-2zM9 17H7v-7h2v7zm4 0h-2V7h2v10zm4 0h-2v-4h2v4z\"/>\n",
              "    </g>\n",
              "</svg>\n",
              "  </button>\n",
              "\n",
              "<style>\n",
              "  .colab-df-quickchart {\n",
              "      --bg-color: #E8F0FE;\n",
              "      --fill-color: #1967D2;\n",
              "      --hover-bg-color: #E2EBFA;\n",
              "      --hover-fill-color: #174EA6;\n",
              "      --disabled-fill-color: #AAA;\n",
              "      --disabled-bg-color: #DDD;\n",
              "  }\n",
              "\n",
              "  [theme=dark] .colab-df-quickchart {\n",
              "      --bg-color: #3B4455;\n",
              "      --fill-color: #D2E3FC;\n",
              "      --hover-bg-color: #434B5C;\n",
              "      --hover-fill-color: #FFFFFF;\n",
              "      --disabled-bg-color: #3B4455;\n",
              "      --disabled-fill-color: #666;\n",
              "  }\n",
              "\n",
              "  .colab-df-quickchart {\n",
              "    background-color: var(--bg-color);\n",
              "    border: none;\n",
              "    border-radius: 50%;\n",
              "    cursor: pointer;\n",
              "    display: none;\n",
              "    fill: var(--fill-color);\n",
              "    height: 32px;\n",
              "    padding: 0;\n",
              "    width: 32px;\n",
              "  }\n",
              "\n",
              "  .colab-df-quickchart:hover {\n",
              "    background-color: var(--hover-bg-color);\n",
              "    box-shadow: 0 1px 2px rgba(60, 64, 67, 0.3), 0 1px 3px 1px rgba(60, 64, 67, 0.15);\n",
              "    fill: var(--button-hover-fill-color);\n",
              "  }\n",
              "\n",
              "  .colab-df-quickchart-complete:disabled,\n",
              "  .colab-df-quickchart-complete:disabled:hover {\n",
              "    background-color: var(--disabled-bg-color);\n",
              "    fill: var(--disabled-fill-color);\n",
              "    box-shadow: none;\n",
              "  }\n",
              "\n",
              "  .colab-df-spinner {\n",
              "    border: 2px solid var(--fill-color);\n",
              "    border-color: transparent;\n",
              "    border-bottom-color: var(--fill-color);\n",
              "    animation:\n",
              "      spin 1s steps(1) infinite;\n",
              "  }\n",
              "\n",
              "  @keyframes spin {\n",
              "    0% {\n",
              "      border-color: transparent;\n",
              "      border-bottom-color: var(--fill-color);\n",
              "      border-left-color: var(--fill-color);\n",
              "    }\n",
              "    20% {\n",
              "      border-color: transparent;\n",
              "      border-left-color: var(--fill-color);\n",
              "      border-top-color: var(--fill-color);\n",
              "    }\n",
              "    30% {\n",
              "      border-color: transparent;\n",
              "      border-left-color: var(--fill-color);\n",
              "      border-top-color: var(--fill-color);\n",
              "      border-right-color: var(--fill-color);\n",
              "    }\n",
              "    40% {\n",
              "      border-color: transparent;\n",
              "      border-right-color: var(--fill-color);\n",
              "      border-top-color: var(--fill-color);\n",
              "    }\n",
              "    60% {\n",
              "      border-color: transparent;\n",
              "      border-right-color: var(--fill-color);\n",
              "    }\n",
              "    80% {\n",
              "      border-color: transparent;\n",
              "      border-right-color: var(--fill-color);\n",
              "      border-bottom-color: var(--fill-color);\n",
              "    }\n",
              "    90% {\n",
              "      border-color: transparent;\n",
              "      border-bottom-color: var(--fill-color);\n",
              "    }\n",
              "  }\n",
              "</style>\n",
              "\n",
              "  <script>\n",
              "    async function quickchart(key) {\n",
              "      const quickchartButtonEl =\n",
              "        document.querySelector('#' + key + ' button');\n",
              "      quickchartButtonEl.disabled = true;  // To prevent multiple clicks.\n",
              "      quickchartButtonEl.classList.add('colab-df-spinner');\n",
              "      try {\n",
              "        const charts = await google.colab.kernel.invokeFunction(\n",
              "            'suggestCharts', [key], {});\n",
              "      } catch (error) {\n",
              "        console.error('Error during call to suggestCharts:', error);\n",
              "      }\n",
              "      quickchartButtonEl.classList.remove('colab-df-spinner');\n",
              "      quickchartButtonEl.classList.add('colab-df-quickchart-complete');\n",
              "    }\n",
              "    (() => {\n",
              "      let quickchartButtonEl =\n",
              "        document.querySelector('#df-715d4658-d290-4fd3-b67e-b28c6c80d0ad button');\n",
              "      quickchartButtonEl.style.display =\n",
              "        google.colab.kernel.accessAllowed ? 'block' : 'none';\n",
              "    })();\n",
              "  </script>\n",
              "</div>\n",
              "    </div>\n",
              "  </div>\n"
            ],
            "application/vnd.google.colaboratory.intrinsic+json": {
              "type": "dataframe",
              "variable_name": "data",
              "summary": "{\n  \"name\": \"data\",\n  \"rows\": 43152,\n  \"fields\": [\n    {\n      \"column\": \"Id\",\n      \"properties\": {\n        \"dtype\": \"number\",\n        \"std\": 12457,\n        \"min\": 1,\n        \"max\": 43152,\n        \"num_unique_values\": 43152,\n        \"samples\": [\n          14769,\n          33288,\n          2182\n        ],\n        \"semantic_type\": \"\",\n        \"description\": \"\"\n      }\n    },\n    {\n      \"column\": \"carat\",\n      \"properties\": {\n        \"dtype\": \"number\",\n        \"std\": 0.4735936225855274,\n        \"min\": 0.2,\n        \"max\": 5.01,\n        \"num_unique_values\": 266,\n        \"samples\": [\n          1.32,\n          1.72,\n          0.47\n        ],\n        \"semantic_type\": \"\",\n        \"description\": \"\"\n      }\n    },\n    {\n      \"column\": \"cut\",\n      \"properties\": {\n        \"dtype\": \"category\",\n        \"num_unique_values\": 5,\n        \"samples\": [\n          \"Premium\",\n          \"Good\",\n          \"Very Good\"\n        ],\n        \"semantic_type\": \"\",\n        \"description\": \"\"\n      }\n    },\n    {\n      \"column\": \"color\",\n      \"properties\": {\n        \"dtype\": \"category\",\n        \"num_unique_values\": 7,\n        \"samples\": [\n          \"I\",\n          \"G\",\n          \"E\"\n        ],\n        \"semantic_type\": \"\",\n        \"description\": \"\"\n      }\n    },\n    {\n      \"column\": \"clarity\",\n      \"properties\": {\n        \"dtype\": \"category\",\n        \"num_unique_values\": 8,\n        \"samples\": [\n          \"VVS2\",\n          \"SI1\",\n          \"SI2\"\n        ],\n        \"semantic_type\": \"\",\n        \"description\": \"\"\n      }\n    },\n    {\n      \"column\": \"depth\",\n      \"properties\": {\n        \"dtype\": \"number\",\n        \"std\": 1.4354538744826075,\n        \"min\": 43.0,\n        \"max\": 79.0,\n        \"num_unique_values\": 179,\n        \"samples\": [\n          56.9,\n          58.6,\n          59.7\n        ],\n        \"semantic_type\": \"\",\n        \"description\": \"\"\n      }\n    },\n    {\n      \"column\": \"table\",\n      \"properties\": {\n        \"dtype\": \"number\",\n        \"std\": 2.233903841503702,\n        \"min\": 43.0,\n        \"max\": 95.0,\n        \"num_unique_values\": 121,\n        \"samples\": [\n          55.3,\n          58.5,\n          62.0\n        ],\n        \"semantic_type\": \"\",\n        \"description\": \"\"\n      }\n    },\n    {\n      \"column\": \"price\",\n      \"properties\": {\n        \"dtype\": \"number\",\n        \"std\": 3985,\n        \"min\": 326,\n        \"max\": 18823,\n        \"num_unique_values\": 10640,\n        \"samples\": [\n          3290,\n          12000,\n          4641\n        ],\n        \"semantic_type\": \"\",\n        \"description\": \"\"\n      }\n    },\n    {\n      \"column\": \"x\",\n      \"properties\": {\n        \"dtype\": \"number\",\n        \"std\": 1.1212789590326664,\n        \"min\": 0.0,\n        \"max\": 10.74,\n        \"num_unique_values\": 546,\n        \"samples\": [\n          7.66,\n          4.8,\n          5.93\n        ],\n        \"semantic_type\": \"\",\n        \"description\": \"\"\n      }\n    },\n    {\n      \"column\": \"y\",\n      \"properties\": {\n        \"dtype\": \"number\",\n        \"std\": 1.1488086491186182,\n        \"min\": 0.0,\n        \"max\": 58.9,\n        \"num_unique_values\": 543,\n        \"samples\": [\n          9.81,\n          8.49,\n          4.02\n        ],\n        \"semantic_type\": \"\",\n        \"description\": \"\"\n      }\n    },\n    {\n      \"column\": \"z\",\n      \"properties\": {\n        \"dtype\": \"number\",\n        \"std\": 0.7082377680754497,\n        \"min\": 0.0,\n        \"max\": 31.8,\n        \"num_unique_values\": 368,\n        \"samples\": [\n          3.11,\n          2.82,\n          3.2\n        ],\n        \"semantic_type\": \"\",\n        \"description\": \"\"\n      }\n    }\n  ]\n}"
            }
          },
          "metadata": {},
          "execution_count": 7
        }
      ],
      "source": [
        "data.head()"
      ]
    },
    {
      "cell_type": "markdown",
      "metadata": {
        "id": "CAn3cYN9ZdGx"
      },
      "source": [
        "# Discover the data"
      ]
    },
    {
      "cell_type": "code",
      "execution_count": null,
      "metadata": {
        "colab": {
          "base_uri": "https://localhost:8080/"
        },
        "id": "RbPg33D7ZkCE",
        "outputId": "5f83baca-b978-4757-cd78-9c6d035cdcfc"
      },
      "outputs": [
        {
          "output_type": "execute_result",
          "data": {
            "text/plain": [
              "(43152, 11)"
            ]
          },
          "metadata": {},
          "execution_count": 12
        }
      ],
      "source": [
        "data.shape"
      ]
    },
    {
      "cell_type": "code",
      "execution_count": null,
      "metadata": {
        "colab": {
          "base_uri": "https://localhost:8080/"
        },
        "id": "Tjvc0ccIZ2mP",
        "outputId": "d1ef9b8a-bd6a-4d4f-9cfd-cc9d8f3f0092"
      },
      "outputs": [
        {
          "output_type": "stream",
          "name": "stdout",
          "text": [
            "<class 'pandas.core.frame.DataFrame'>\n",
            "RangeIndex: 43152 entries, 0 to 43151\n",
            "Data columns (total 11 columns):\n",
            " #   Column   Non-Null Count  Dtype  \n",
            "---  ------   --------------  -----  \n",
            " 0   Id       43152 non-null  int64  \n",
            " 1   carat    43152 non-null  float64\n",
            " 2   cut      43152 non-null  object \n",
            " 3   color    43152 non-null  object \n",
            " 4   clarity  43152 non-null  object \n",
            " 5   depth    43152 non-null  float64\n",
            " 6   table    43152 non-null  float64\n",
            " 7   price    43152 non-null  int64  \n",
            " 8   x        43152 non-null  float64\n",
            " 9   y        43152 non-null  float64\n",
            " 10  z        43152 non-null  float64\n",
            "dtypes: float64(6), int64(2), object(3)\n",
            "memory usage: 3.6+ MB\n"
          ]
        }
      ],
      "source": [
        "data.info()"
      ]
    },
    {
      "cell_type": "code",
      "execution_count": null,
      "metadata": {
        "colab": {
          "base_uri": "https://localhost:8080/",
          "height": 300
        },
        "id": "TMebt2XOaYer",
        "outputId": "800e2957-3fec-4361-a98b-e3acd88b0d6f"
      },
      "outputs": [
        {
          "output_type": "execute_result",
          "data": {
            "text/plain": [
              "                 Id         carat         depth         table         price  \\\n",
              "count  43152.000000  43152.000000  43152.000000  43152.000000  43152.000000   \n",
              "mean   21576.500000      0.797855     61.747177     57.458347   3929.491912   \n",
              "std    12457.053745      0.473594      1.435454      2.233904   3985.527795   \n",
              "min        1.000000      0.200000     43.000000     43.000000    326.000000   \n",
              "25%    10788.750000      0.400000     61.000000     56.000000    947.750000   \n",
              "50%    21576.500000      0.700000     61.800000     57.000000   2401.000000   \n",
              "75%    32364.250000      1.040000     62.500000     59.000000   5312.000000   \n",
              "max    43152.000000      5.010000     79.000000     95.000000  18823.000000   \n",
              "\n",
              "                  x             y             z  \n",
              "count  43152.000000  43152.000000  43152.000000  \n",
              "mean       5.731568      5.735018      3.538568  \n",
              "std        1.121279      1.148809      0.708238  \n",
              "min        0.000000      0.000000      0.000000  \n",
              "25%        4.710000      4.720000      2.910000  \n",
              "50%        5.700000      5.710000      3.530000  \n",
              "75%        6.540000      6.540000      4.040000  \n",
              "max       10.740000     58.900000     31.800000  "
            ],
            "text/html": [
              "\n",
              "  <div id=\"df-9e50bc44-d090-4f72-95fa-f78896e9bff1\" class=\"colab-df-container\">\n",
              "    <div>\n",
              "<style scoped>\n",
              "    .dataframe tbody tr th:only-of-type {\n",
              "        vertical-align: middle;\n",
              "    }\n",
              "\n",
              "    .dataframe tbody tr th {\n",
              "        vertical-align: top;\n",
              "    }\n",
              "\n",
              "    .dataframe thead th {\n",
              "        text-align: right;\n",
              "    }\n",
              "</style>\n",
              "<table border=\"1\" class=\"dataframe\">\n",
              "  <thead>\n",
              "    <tr style=\"text-align: right;\">\n",
              "      <th></th>\n",
              "      <th>Id</th>\n",
              "      <th>carat</th>\n",
              "      <th>depth</th>\n",
              "      <th>table</th>\n",
              "      <th>price</th>\n",
              "      <th>x</th>\n",
              "      <th>y</th>\n",
              "      <th>z</th>\n",
              "    </tr>\n",
              "  </thead>\n",
              "  <tbody>\n",
              "    <tr>\n",
              "      <th>count</th>\n",
              "      <td>43152.000000</td>\n",
              "      <td>43152.000000</td>\n",
              "      <td>43152.000000</td>\n",
              "      <td>43152.000000</td>\n",
              "      <td>43152.000000</td>\n",
              "      <td>43152.000000</td>\n",
              "      <td>43152.000000</td>\n",
              "      <td>43152.000000</td>\n",
              "    </tr>\n",
              "    <tr>\n",
              "      <th>mean</th>\n",
              "      <td>21576.500000</td>\n",
              "      <td>0.797855</td>\n",
              "      <td>61.747177</td>\n",
              "      <td>57.458347</td>\n",
              "      <td>3929.491912</td>\n",
              "      <td>5.731568</td>\n",
              "      <td>5.735018</td>\n",
              "      <td>3.538568</td>\n",
              "    </tr>\n",
              "    <tr>\n",
              "      <th>std</th>\n",
              "      <td>12457.053745</td>\n",
              "      <td>0.473594</td>\n",
              "      <td>1.435454</td>\n",
              "      <td>2.233904</td>\n",
              "      <td>3985.527795</td>\n",
              "      <td>1.121279</td>\n",
              "      <td>1.148809</td>\n",
              "      <td>0.708238</td>\n",
              "    </tr>\n",
              "    <tr>\n",
              "      <th>min</th>\n",
              "      <td>1.000000</td>\n",
              "      <td>0.200000</td>\n",
              "      <td>43.000000</td>\n",
              "      <td>43.000000</td>\n",
              "      <td>326.000000</td>\n",
              "      <td>0.000000</td>\n",
              "      <td>0.000000</td>\n",
              "      <td>0.000000</td>\n",
              "    </tr>\n",
              "    <tr>\n",
              "      <th>25%</th>\n",
              "      <td>10788.750000</td>\n",
              "      <td>0.400000</td>\n",
              "      <td>61.000000</td>\n",
              "      <td>56.000000</td>\n",
              "      <td>947.750000</td>\n",
              "      <td>4.710000</td>\n",
              "      <td>4.720000</td>\n",
              "      <td>2.910000</td>\n",
              "    </tr>\n",
              "    <tr>\n",
              "      <th>50%</th>\n",
              "      <td>21576.500000</td>\n",
              "      <td>0.700000</td>\n",
              "      <td>61.800000</td>\n",
              "      <td>57.000000</td>\n",
              "      <td>2401.000000</td>\n",
              "      <td>5.700000</td>\n",
              "      <td>5.710000</td>\n",
              "      <td>3.530000</td>\n",
              "    </tr>\n",
              "    <tr>\n",
              "      <th>75%</th>\n",
              "      <td>32364.250000</td>\n",
              "      <td>1.040000</td>\n",
              "      <td>62.500000</td>\n",
              "      <td>59.000000</td>\n",
              "      <td>5312.000000</td>\n",
              "      <td>6.540000</td>\n",
              "      <td>6.540000</td>\n",
              "      <td>4.040000</td>\n",
              "    </tr>\n",
              "    <tr>\n",
              "      <th>max</th>\n",
              "      <td>43152.000000</td>\n",
              "      <td>5.010000</td>\n",
              "      <td>79.000000</td>\n",
              "      <td>95.000000</td>\n",
              "      <td>18823.000000</td>\n",
              "      <td>10.740000</td>\n",
              "      <td>58.900000</td>\n",
              "      <td>31.800000</td>\n",
              "    </tr>\n",
              "  </tbody>\n",
              "</table>\n",
              "</div>\n",
              "    <div class=\"colab-df-buttons\">\n",
              "\n",
              "  <div class=\"colab-df-container\">\n",
              "    <button class=\"colab-df-convert\" onclick=\"convertToInteractive('df-9e50bc44-d090-4f72-95fa-f78896e9bff1')\"\n",
              "            title=\"Convert this dataframe to an interactive table.\"\n",
              "            style=\"display:none;\">\n",
              "\n",
              "  <svg xmlns=\"http://www.w3.org/2000/svg\" height=\"24px\" viewBox=\"0 -960 960 960\">\n",
              "    <path d=\"M120-120v-720h720v720H120Zm60-500h600v-160H180v160Zm220 220h160v-160H400v160Zm0 220h160v-160H400v160ZM180-400h160v-160H180v160Zm440 0h160v-160H620v160ZM180-180h160v-160H180v160Zm440 0h160v-160H620v160Z\"/>\n",
              "  </svg>\n",
              "    </button>\n",
              "\n",
              "  <style>\n",
              "    .colab-df-container {\n",
              "      display:flex;\n",
              "      gap: 12px;\n",
              "    }\n",
              "\n",
              "    .colab-df-convert {\n",
              "      background-color: #E8F0FE;\n",
              "      border: none;\n",
              "      border-radius: 50%;\n",
              "      cursor: pointer;\n",
              "      display: none;\n",
              "      fill: #1967D2;\n",
              "      height: 32px;\n",
              "      padding: 0 0 0 0;\n",
              "      width: 32px;\n",
              "    }\n",
              "\n",
              "    .colab-df-convert:hover {\n",
              "      background-color: #E2EBFA;\n",
              "      box-shadow: 0px 1px 2px rgba(60, 64, 67, 0.3), 0px 1px 3px 1px rgba(60, 64, 67, 0.15);\n",
              "      fill: #174EA6;\n",
              "    }\n",
              "\n",
              "    .colab-df-buttons div {\n",
              "      margin-bottom: 4px;\n",
              "    }\n",
              "\n",
              "    [theme=dark] .colab-df-convert {\n",
              "      background-color: #3B4455;\n",
              "      fill: #D2E3FC;\n",
              "    }\n",
              "\n",
              "    [theme=dark] .colab-df-convert:hover {\n",
              "      background-color: #434B5C;\n",
              "      box-shadow: 0px 1px 3px 1px rgba(0, 0, 0, 0.15);\n",
              "      filter: drop-shadow(0px 1px 2px rgba(0, 0, 0, 0.3));\n",
              "      fill: #FFFFFF;\n",
              "    }\n",
              "  </style>\n",
              "\n",
              "    <script>\n",
              "      const buttonEl =\n",
              "        document.querySelector('#df-9e50bc44-d090-4f72-95fa-f78896e9bff1 button.colab-df-convert');\n",
              "      buttonEl.style.display =\n",
              "        google.colab.kernel.accessAllowed ? 'block' : 'none';\n",
              "\n",
              "      async function convertToInteractive(key) {\n",
              "        const element = document.querySelector('#df-9e50bc44-d090-4f72-95fa-f78896e9bff1');\n",
              "        const dataTable =\n",
              "          await google.colab.kernel.invokeFunction('convertToInteractive',\n",
              "                                                    [key], {});\n",
              "        if (!dataTable) return;\n",
              "\n",
              "        const docLinkHtml = 'Like what you see? Visit the ' +\n",
              "          '<a target=\"_blank\" href=https://colab.research.google.com/notebooks/data_table.ipynb>data table notebook</a>'\n",
              "          + ' to learn more about interactive tables.';\n",
              "        element.innerHTML = '';\n",
              "        dataTable['output_type'] = 'display_data';\n",
              "        await google.colab.output.renderOutput(dataTable, element);\n",
              "        const docLink = document.createElement('div');\n",
              "        docLink.innerHTML = docLinkHtml;\n",
              "        element.appendChild(docLink);\n",
              "      }\n",
              "    </script>\n",
              "  </div>\n",
              "\n",
              "\n",
              "<div id=\"df-1ed3cadd-29ec-4765-9b99-4be35415813d\">\n",
              "  <button class=\"colab-df-quickchart\" onclick=\"quickchart('df-1ed3cadd-29ec-4765-9b99-4be35415813d')\"\n",
              "            title=\"Suggest charts\"\n",
              "            style=\"display:none;\">\n",
              "\n",
              "<svg xmlns=\"http://www.w3.org/2000/svg\" height=\"24px\"viewBox=\"0 0 24 24\"\n",
              "     width=\"24px\">\n",
              "    <g>\n",
              "        <path d=\"M19 3H5c-1.1 0-2 .9-2 2v14c0 1.1.9 2 2 2h14c1.1 0 2-.9 2-2V5c0-1.1-.9-2-2-2zM9 17H7v-7h2v7zm4 0h-2V7h2v10zm4 0h-2v-4h2v4z\"/>\n",
              "    </g>\n",
              "</svg>\n",
              "  </button>\n",
              "\n",
              "<style>\n",
              "  .colab-df-quickchart {\n",
              "      --bg-color: #E8F0FE;\n",
              "      --fill-color: #1967D2;\n",
              "      --hover-bg-color: #E2EBFA;\n",
              "      --hover-fill-color: #174EA6;\n",
              "      --disabled-fill-color: #AAA;\n",
              "      --disabled-bg-color: #DDD;\n",
              "  }\n",
              "\n",
              "  [theme=dark] .colab-df-quickchart {\n",
              "      --bg-color: #3B4455;\n",
              "      --fill-color: #D2E3FC;\n",
              "      --hover-bg-color: #434B5C;\n",
              "      --hover-fill-color: #FFFFFF;\n",
              "      --disabled-bg-color: #3B4455;\n",
              "      --disabled-fill-color: #666;\n",
              "  }\n",
              "\n",
              "  .colab-df-quickchart {\n",
              "    background-color: var(--bg-color);\n",
              "    border: none;\n",
              "    border-radius: 50%;\n",
              "    cursor: pointer;\n",
              "    display: none;\n",
              "    fill: var(--fill-color);\n",
              "    height: 32px;\n",
              "    padding: 0;\n",
              "    width: 32px;\n",
              "  }\n",
              "\n",
              "  .colab-df-quickchart:hover {\n",
              "    background-color: var(--hover-bg-color);\n",
              "    box-shadow: 0 1px 2px rgba(60, 64, 67, 0.3), 0 1px 3px 1px rgba(60, 64, 67, 0.15);\n",
              "    fill: var(--button-hover-fill-color);\n",
              "  }\n",
              "\n",
              "  .colab-df-quickchart-complete:disabled,\n",
              "  .colab-df-quickchart-complete:disabled:hover {\n",
              "    background-color: var(--disabled-bg-color);\n",
              "    fill: var(--disabled-fill-color);\n",
              "    box-shadow: none;\n",
              "  }\n",
              "\n",
              "  .colab-df-spinner {\n",
              "    border: 2px solid var(--fill-color);\n",
              "    border-color: transparent;\n",
              "    border-bottom-color: var(--fill-color);\n",
              "    animation:\n",
              "      spin 1s steps(1) infinite;\n",
              "  }\n",
              "\n",
              "  @keyframes spin {\n",
              "    0% {\n",
              "      border-color: transparent;\n",
              "      border-bottom-color: var(--fill-color);\n",
              "      border-left-color: var(--fill-color);\n",
              "    }\n",
              "    20% {\n",
              "      border-color: transparent;\n",
              "      border-left-color: var(--fill-color);\n",
              "      border-top-color: var(--fill-color);\n",
              "    }\n",
              "    30% {\n",
              "      border-color: transparent;\n",
              "      border-left-color: var(--fill-color);\n",
              "      border-top-color: var(--fill-color);\n",
              "      border-right-color: var(--fill-color);\n",
              "    }\n",
              "    40% {\n",
              "      border-color: transparent;\n",
              "      border-right-color: var(--fill-color);\n",
              "      border-top-color: var(--fill-color);\n",
              "    }\n",
              "    60% {\n",
              "      border-color: transparent;\n",
              "      border-right-color: var(--fill-color);\n",
              "    }\n",
              "    80% {\n",
              "      border-color: transparent;\n",
              "      border-right-color: var(--fill-color);\n",
              "      border-bottom-color: var(--fill-color);\n",
              "    }\n",
              "    90% {\n",
              "      border-color: transparent;\n",
              "      border-bottom-color: var(--fill-color);\n",
              "    }\n",
              "  }\n",
              "</style>\n",
              "\n",
              "  <script>\n",
              "    async function quickchart(key) {\n",
              "      const quickchartButtonEl =\n",
              "        document.querySelector('#' + key + ' button');\n",
              "      quickchartButtonEl.disabled = true;  // To prevent multiple clicks.\n",
              "      quickchartButtonEl.classList.add('colab-df-spinner');\n",
              "      try {\n",
              "        const charts = await google.colab.kernel.invokeFunction(\n",
              "            'suggestCharts', [key], {});\n",
              "      } catch (error) {\n",
              "        console.error('Error during call to suggestCharts:', error);\n",
              "      }\n",
              "      quickchartButtonEl.classList.remove('colab-df-spinner');\n",
              "      quickchartButtonEl.classList.add('colab-df-quickchart-complete');\n",
              "    }\n",
              "    (() => {\n",
              "      let quickchartButtonEl =\n",
              "        document.querySelector('#df-1ed3cadd-29ec-4765-9b99-4be35415813d button');\n",
              "      quickchartButtonEl.style.display =\n",
              "        google.colab.kernel.accessAllowed ? 'block' : 'none';\n",
              "    })();\n",
              "  </script>\n",
              "</div>\n",
              "    </div>\n",
              "  </div>\n"
            ],
            "application/vnd.google.colaboratory.intrinsic+json": {
              "type": "dataframe",
              "summary": "{\n  \"name\": \"data\",\n  \"rows\": 8,\n  \"fields\": [\n    {\n      \"column\": \"Id\",\n      \"properties\": {\n        \"dtype\": \"number\",\n        \"std\": 15551.884780196391,\n        \"min\": 1.0,\n        \"max\": 43152.0,\n        \"num_unique_values\": 6,\n        \"samples\": [\n          43152.0,\n          21576.5,\n          32364.25\n        ],\n        \"semantic_type\": \"\",\n        \"description\": \"\"\n      }\n    },\n    {\n      \"column\": \"carat\",\n      \"properties\": {\n        \"dtype\": \"number\",\n        \"std\": 15256.100542094116,\n        \"min\": 0.2,\n        \"max\": 43152.0,\n        \"num_unique_values\": 8,\n        \"samples\": [\n          0.7978550241008528,\n          0.7,\n          43152.0\n        ],\n        \"semantic_type\": \"\",\n        \"description\": \"\"\n      }\n    },\n    {\n      \"column\": \"depth\",\n      \"properties\": {\n        \"dtype\": \"number\",\n        \"std\": 15237.841258175733,\n        \"min\": 1.4354538744826075,\n        \"max\": 43152.0,\n        \"num_unique_values\": 8,\n        \"samples\": [\n          61.747177419354834,\n          61.8,\n          43152.0\n        ],\n        \"semantic_type\": \"\",\n        \"description\": \"\"\n      }\n    },\n    {\n      \"column\": \"table\",\n      \"properties\": {\n        \"dtype\": \"number\",\n        \"std\": 15237.884828855667,\n        \"min\": 2.233903841503702,\n        \"max\": 43152.0,\n        \"num_unique_values\": 8,\n        \"samples\": [\n          57.45834723767149,\n          57.0,\n          43152.0\n        ],\n        \"semantic_type\": \"\",\n        \"description\": \"\"\n      }\n    },\n    {\n      \"column\": \"price\",\n      \"properties\": {\n        \"dtype\": \"number\",\n        \"std\": 14662.972426304645,\n        \"min\": 326.0,\n        \"max\": 43152.0,\n        \"num_unique_values\": 8,\n        \"samples\": [\n          3929.491912309974,\n          2401.0,\n          43152.0\n        ],\n        \"semantic_type\": \"\",\n        \"description\": \"\"\n      }\n    },\n    {\n      \"column\": \"x\",\n      \"properties\": {\n        \"dtype\": \"number\",\n        \"std\": 15254.791591581006,\n        \"min\": 0.0,\n        \"max\": 43152.0,\n        \"num_unique_values\": 8,\n        \"samples\": [\n          5.731567945865777,\n          5.7,\n          43152.0\n        ],\n        \"semantic_type\": \"\",\n        \"description\": \"\"\n      }\n    },\n    {\n      \"column\": \"y\",\n      \"properties\": {\n        \"dtype\": \"number\",\n        \"std\": 15252.368494162807,\n        \"min\": 0.0,\n        \"max\": 43152.0,\n        \"num_unique_values\": 8,\n        \"samples\": [\n          5.735017612161661,\n          5.71,\n          43152.0\n        ],\n        \"semantic_type\": \"\",\n        \"description\": \"\"\n      }\n    },\n    {\n      \"column\": \"z\",\n      \"properties\": {\n        \"dtype\": \"number\",\n        \"std\": 15254.189474858409,\n        \"min\": 0.0,\n        \"max\": 43152.0,\n        \"num_unique_values\": 8,\n        \"samples\": [\n          3.53856762143122,\n          3.53,\n          43152.0\n        ],\n        \"semantic_type\": \"\",\n        \"description\": \"\"\n      }\n    }\n  ]\n}"
            }
          },
          "metadata": {},
          "execution_count": 14
        }
      ],
      "source": [
        "data.describe()"
      ]
    },
    {
      "cell_type": "code",
      "execution_count": null,
      "metadata": {
        "colab": {
          "base_uri": "https://localhost:8080/"
        },
        "id": "P7L3s-zCa8kR",
        "outputId": "999c7677-9236-4a2f-e179-e8ac5f72f87a"
      },
      "outputs": [
        {
          "output_type": "execute_result",
          "data": {
            "text/plain": [
              "Id         0\n",
              "carat      0\n",
              "cut        0\n",
              "color      0\n",
              "clarity    0\n",
              "depth      0\n",
              "table      0\n",
              "price      0\n",
              "x          0\n",
              "y          0\n",
              "z          0\n",
              "dtype: int64"
            ]
          },
          "metadata": {},
          "execution_count": 15
        }
      ],
      "source": [
        "data.isnull().sum()"
      ]
    },
    {
      "cell_type": "markdown",
      "source": [
        "## Check for duplicates"
      ],
      "metadata": {
        "id": "cfAKHfJvKBU6"
      }
    },
    {
      "cell_type": "code",
      "source": [
        "data.duplicated().sum()"
      ],
      "metadata": {
        "colab": {
          "base_uri": "https://localhost:8080/"
        },
        "id": "RQgEb26TJ9A1",
        "outputId": "21156569-e14f-4d6b-94c6-f1545497b8e3"
      },
      "execution_count": 6,
      "outputs": [
        {
          "output_type": "execute_result",
          "data": {
            "text/plain": [
              "0"
            ]
          },
          "metadata": {},
          "execution_count": 6
        }
      ]
    },
    {
      "cell_type": "markdown",
      "source": [
        "## Histogram"
      ],
      "metadata": {
        "id": "O-iUqkmXOb2f"
      }
    },
    {
      "cell_type": "code",
      "execution_count": 5,
      "metadata": {
        "colab": {
          "base_uri": "https://localhost:8080/",
          "height": 547
        },
        "id": "XebQFZWObD_J",
        "outputId": "a220a343-e9e6-436f-d87f-59b6a35547b5"
      },
      "outputs": [
        {
          "output_type": "display_data",
          "data": {
            "text/plain": [
              "<Figure size 1500x1000 with 9 Axes>"
            ],
            "image/png": "[encoded data removed]"
          },
          "metadata": {}
        }
      ],
      "source": [
        "\n",
        "data.hist(figsize=(15,10),edgecolor=\"red\")\n",
        "plt.show()"
      ]
    },
    {
      "cell_type": "markdown",
      "source": [
        "## Checking for zero values (length,width, depth)"
      ],
      "metadata": {
        "id": "Gjnn3j0sOz1T"
      }
    },
    {
      "cell_type": "code",
      "source": [
        "data[(data['x'] == 0) | (data['y'] == 0) | (data['z'] == 0)]"
      ],
      "metadata": {
        "colab": {
          "base_uri": "https://localhost:8080/",
          "height": 582
        },
        "id": "P_2qPtIWJTLI",
        "outputId": "9d0c6d67-84e5-4f64-96ca-a4475d37afd2"
      },
      "execution_count": 6,
      "outputs": [
        {
          "output_type": "execute_result",
          "data": {
            "text/plain": [
              "          Id  carat        cut color clarity  depth  table  price     x     y  \\\n",
              "571      572   1.10    Premium     G     SI2   63.0   59.0   3696  6.50  6.47   \n",
              "903      904   2.25    Premium     I     SI1   61.3   58.0  15397  8.52  8.42   \n",
              "1221    1222   1.14       Fair     G     VS1   57.5   67.0   6381  0.00  0.00   \n",
              "4980    4981   1.50       Good     G      I1   64.0   61.0   4731  7.15  7.04   \n",
              "6765    6766   0.71       Good     F     SI2   64.1   60.0   2130  0.00  0.00   \n",
              "11221  11222   2.80       Good     G     SI2   63.8   58.0  18788  8.90  8.85   \n",
              "13727  13728   2.02    Premium     H     VS2   62.7   53.0  18207  8.02  7.95   \n",
              "14265  14266   1.01    Premium     F     SI2   59.2   58.0   3837  6.50  6.47   \n",
              "16971  16972   1.00    Premium     G     SI2   59.1   59.0   3142  6.55  6.48   \n",
              "21061  21062   1.15      Ideal     G     VS2   59.2   56.0   5564  6.88  6.83   \n",
              "22171  22172   1.00  Very Good     H     VS2   63.3   53.0   5139  0.00  0.00   \n",
              "24901  24902   2.25    Premium     H     SI2   62.8   59.0  18034  0.00  0.00   \n",
              "27221  27222   1.12    Premium     G      I1   60.4   59.0   2383  6.71  6.67   \n",
              "34065  34066   1.01    Premium     H      I1   58.1   59.0   3167  6.66  6.60   \n",
              "35347  35348   2.18    Premium     H     SI2   59.4   61.0  12631  8.49  8.45   \n",
              "39201  39202   1.07      Ideal     F     SI2   61.6   56.0   4954  0.00  6.62   \n",
              "42898  42899   2.20    Premium     H     SI1   61.2   59.0  17265  8.42  8.37   \n",
              "\n",
              "         z  \n",
              "571    0.0  \n",
              "903    0.0  \n",
              "1221   0.0  \n",
              "4980   0.0  \n",
              "6765   0.0  \n",
              "11221  0.0  \n",
              "13727  0.0  \n",
              "14265  0.0  \n",
              "16971  0.0  \n",
              "21061  0.0  \n",
              "22171  0.0  \n",
              "24901  0.0  \n",
              "27221  0.0  \n",
              "34065  0.0  \n",
              "35347  0.0  \n",
              "39201  0.0  \n",
              "42898  0.0  "
            ],
            "text/html": [
              "\n",
              "  <div id=\"df-9617b7e8-da16-46e1-84fc-f376e53ee6f9\" class=\"colab-df-container\">\n",
              "    <div>\n",
              "<style scoped>\n",
              "    .dataframe tbody tr th:only-of-type {\n",
              "        vertical-align: middle;\n",
              "    }\n",
              "\n",
              "    .dataframe tbody tr th {\n",
              "        vertical-align: top;\n",
              "    }\n",
              "\n",
              "    .dataframe thead th {\n",
              "        text-align: right;\n",
              "    }\n",
              "</style>\n",
              "<table border=\"1\" class=\"dataframe\">\n",
              "  <thead>\n",
              "    <tr style=\"text-align: right;\">\n",
              "      <th></th>\n",
              "      <th>Id</th>\n",
              "      <th>carat</th>\n",
              "      <th>cut</th>\n",
              "      <th>color</th>\n",
              "      <th>clarity</th>\n",
              "      <th>depth</th>\n",
              "      <th>table</th>\n",
              "      <th>price</th>\n",
              "      <th>x</th>\n",
              "      <th>y</th>\n",
              "      <th>z</th>\n",
              "    </tr>\n",
              "  </thead>\n",
              "  <tbody>\n",
              "    <tr>\n",
              "      <th>571</th>\n",
              "      <td>572</td>\n",
              "      <td>1.10</td>\n",
              "      <td>Premium</td>\n",
              "      <td>G</td>\n",
              "      <td>SI2</td>\n",
              "      <td>63.0</td>\n",
              "      <td>59.0</td>\n",
              "      <td>3696</td>\n",
              "      <td>6.50</td>\n",
              "      <td>6.47</td>\n",
              "      <td>0.0</td>\n",
              "    </tr>\n",
              "    <tr>\n",
              "      <th>903</th>\n",
              "      <td>904</td>\n",
              "      <td>2.25</td>\n",
              "      <td>Premium</td>\n",
              "      <td>I</td>\n",
              "      <td>SI1</td>\n",
              "      <td>61.3</td>\n",
              "      <td>58.0</td>\n",
              "      <td>15397</td>\n",
              "      <td>8.52</td>\n",
              "      <td>8.42</td>\n",
              "      <td>0.0</td>\n",
              "    </tr>\n",
              "    <tr>\n",
              "      <th>1221</th>\n",
              "      <td>1222</td>\n",
              "      <td>1.14</td>\n",
              "      <td>Fair</td>\n",
              "      <td>G</td>\n",
              "      <td>VS1</td>\n",
              "      <td>57.5</td>\n",
              "      <td>67.0</td>\n",
              "      <td>6381</td>\n",
              "      <td>0.00</td>\n",
              "      <td>0.00</td>\n",
              "      <td>0.0</td>\n",
              "    </tr>\n",
              "    <tr>\n",
              "      <th>4980</th>\n",
              "      <td>4981</td>\n",
              "      <td>1.50</td>\n",
              "      <td>Good</td>\n",
              "      <td>G</td>\n",
              "      <td>I1</td>\n",
              "      <td>64.0</td>\n",
              "      <td>61.0</td>\n",
              "      <td>4731</td>\n",
              "      <td>7.15</td>\n",
              "      <td>7.04</td>\n",
              "      <td>0.0</td>\n",
              "    </tr>\n",
              "    <tr>\n",
              "      <th>6765</th>\n",
              "      <td>6766</td>\n",
              "      <td>0.71</td>\n",
              "      <td>Good</td>\n",
              "      <td>F</td>\n",
              "      <td>SI2</td>\n",
              "      <td>64.1</td>\n",
              "      <td>60.0</td>\n",
              "      <td>2130</td>\n",
              "      <td>0.00</td>\n",
              "      <td>0.00</td>\n",
              "      <td>0.0</td>\n",
              "    </tr>\n",
              "    <tr>\n",
              "      <th>11221</th>\n",
              "      <td>11222</td>\n",
              "      <td>2.80</td>\n",
              "      <td>Good</td>\n",
              "      <td>G</td>\n",
              "      <td>SI2</td>\n",
              "      <td>63.8</td>\n",
              "      <td>58.0</td>\n",
              "      <td>18788</td>\n",
              "      <td>8.90</td>\n",
              "      <td>8.85</td>\n",
              "      <td>0.0</td>\n",
              "    </tr>\n",
              "    <tr>\n",
              "      <th>13727</th>\n",
              "      <td>13728</td>\n",
              "      <td>2.02</td>\n",
              "      <td>Premium</td>\n",
              "      <td>H</td>\n",
              "      <td>VS2</td>\n",
              "      <td>62.7</td>\n",
              "      <td>53.0</td>\n",
              "      <td>18207</td>\n",
              "      <td>8.02</td>\n",
              "      <td>7.95</td>\n",
              "      <td>0.0</td>\n",
              "    </tr>\n",
              "    <tr>\n",
              "      <th>14265</th>\n",
              "      <td>14266</td>\n",
              "      <td>1.01</td>\n",
              "      <td>Premium</td>\n",
              "      <td>F</td>\n",
              "      <td>SI2</td>\n",
              "      <td>59.2</td>\n",
              "      <td>58.0</td>\n",
              "      <td>3837</td>\n",
              "      <td>6.50</td>\n",
              "      <td>6.47</td>\n",
              "      <td>0.0</td>\n",
              "    </tr>\n",
              "    <tr>\n",
              "      <th>16971</th>\n",
              "      <td>16972</td>\n",
              "      <td>1.00</td>\n",
              "      <td>Premium</td>\n",
              "      <td>G</td>\n",
              "      <td>SI2</td>\n",
              "      <td>59.1</td>\n",
              "      <td>59.0</td>\n",
              "      <td>3142</td>\n",
              "      <td>6.55</td>\n",
              "      <td>6.48</td>\n",
              "      <td>0.0</td>\n",
              "    </tr>\n",
              "    <tr>\n",
              "      <th>21061</th>\n",
              "      <td>21062</td>\n",
              "      <td>1.15</td>\n",
              "      <td>Ideal</td>\n",
              "      <td>G</td>\n",
              "      <td>VS2</td>\n",
              "      <td>59.2</td>\n",
              "      <td>56.0</td>\n",
              "      <td>5564</td>\n",
              "      <td>6.88</td>\n",
              "      <td>6.83</td>\n",
              "      <td>0.0</td>\n",
              "    </tr>\n",
              "    <tr>\n",
              "      <th>22171</th>\n",
              "      <td>22172</td>\n",
              "      <td>1.00</td>\n",
              "      <td>Very Good</td>\n",
              "      <td>H</td>\n",
              "      <td>VS2</td>\n",
              "      <td>63.3</td>\n",
              "      <td>53.0</td>\n",
              "      <td>5139</td>\n",
              "      <td>0.00</td>\n",
              "      <td>0.00</td>\n",
              "      <td>0.0</td>\n",
              "    </tr>\n",
              "    <tr>\n",
              "      <th>24901</th>\n",
              "      <td>24902</td>\n",
              "      <td>2.25</td>\n",
              "      <td>Premium</td>\n",
              "      <td>H</td>\n",
              "      <td>SI2</td>\n",
              "      <td>62.8</td>\n",
              "      <td>59.0</td>\n",
              "      <td>18034</td>\n",
              "      <td>0.00</td>\n",
              "      <td>0.00</td>\n",
              "      <td>0.0</td>\n",
              "    </tr>\n",
              "    <tr>\n",
              "      <th>27221</th>\n",
              "      <td>27222</td>\n",
              "      <td>1.12</td>\n",
              "      <td>Premium</td>\n",
              "      <td>G</td>\n",
              "      <td>I1</td>\n",
              "      <td>60.4</td>\n",
              "      <td>59.0</td>\n",
              "      <td>2383</td>\n",
              "      <td>6.71</td>\n",
              "      <td>6.67</td>\n",
              "      <td>0.0</td>\n",
              "    </tr>\n",
              "    <tr>\n",
              "      <th>34065</th>\n",
              "      <td>34066</td>\n",
              "      <td>1.01</td>\n",
              "      <td>Premium</td>\n",
              "      <td>H</td>\n",
              "      <td>I1</td>\n",
              "      <td>58.1</td>\n",
              "      <td>59.0</td>\n",
              "      <td>3167</td>\n",
              "      <td>6.66</td>\n",
              "      <td>6.60</td>\n",
              "      <td>0.0</td>\n",
              "    </tr>\n",
              "    <tr>\n",
              "      <th>35347</th>\n",
              "      <td>35348</td>\n",
              "      <td>2.18</td>\n",
              "      <td>Premium</td>\n",
              "      <td>H</td>\n",
              "      <td>SI2</td>\n",
              "      <td>59.4</td>\n",
              "      <td>61.0</td>\n",
              "      <td>12631</td>\n",
              "      <td>8.49</td>\n",
              "      <td>8.45</td>\n",
              "      <td>0.0</td>\n",
              "    </tr>\n",
              "    <tr>\n",
              "      <th>39201</th>\n",
              "      <td>39202</td>\n",
              "      <td>1.07</td>\n",
              "      <td>Ideal</td>\n",
              "      <td>F</td>\n",
              "      <td>SI2</td>\n",
              "      <td>61.6</td>\n",
              "      <td>56.0</td>\n",
              "      <td>4954</td>\n",
              "      <td>0.00</td>\n",
              "      <td>6.62</td>\n",
              "      <td>0.0</td>\n",
              "    </tr>\n",
              "    <tr>\n",
              "      <th>42898</th>\n",
              "      <td>42899</td>\n",
              "      <td>2.20</td>\n",
              "      <td>Premium</td>\n",
              "      <td>H</td>\n",
              "      <td>SI1</td>\n",
              "      <td>61.2</td>\n",
              "      <td>59.0</td>\n",
              "      <td>17265</td>\n",
              "      <td>8.42</td>\n",
              "      <td>8.37</td>\n",
              "      <td>0.0</td>\n",
              "    </tr>\n",
              "  </tbody>\n",
              "</table>\n",
              "</div>\n",
              "    <div class=\"colab-df-buttons\">\n",
              "\n",
              "  <div class=\"colab-df-container\">\n",
              "    <button class=\"colab-df-convert\" onclick=\"convertToInteractive('df-9617b7e8-da16-46e1-84fc-f376e53ee6f9')\"\n",
              "            title=\"Convert this dataframe to an interactive table.\"\n",
              "            style=\"display:none;\">\n",
              "\n",
              "  <svg xmlns=\"http://www.w3.org/2000/svg\" height=\"24px\" viewBox=\"0 -960 960 960\">\n",
              "    <path d=\"M120-120v-720h720v720H120Zm60-500h600v-160H180v160Zm220 220h160v-160H400v160Zm0 220h160v-160H400v160ZM180-400h160v-160H180v160Zm440 0h160v-160H620v160ZM180-180h160v-160H180v160Zm440 0h160v-160H620v160Z\"/>\n",
              "  </svg>\n",
              "    </button>\n",
              "\n",
              "  <style>\n",
              "    .colab-df-container {\n",
              "      display:flex;\n",
              "      gap: 12px;\n",
              "    }\n",
              "\n",
              "    .colab-df-convert {\n",
              "      background-color: #E8F0FE;\n",
              "      border: none;\n",
              "      border-radius: 50%;\n",
              "      cursor: pointer;\n",
              "      display: none;\n",
              "      fill: #1967D2;\n",
              "      height: 32px;\n",
              "      padding: 0 0 0 0;\n",
              "      width: 32px;\n",
              "    }\n",
              "\n",
              "    .colab-df-convert:hover {\n",
              "      background-color: #E2EBFA;\n",
              "      box-shadow: 0px 1px 2px rgba(60, 64, 67, 0.3), 0px 1px 3px 1px rgba(60, 64, 67, 0.15);\n",
              "      fill: #174EA6;\n",
              "    }\n",
              "\n",
              "    .colab-df-buttons div {\n",
              "      margin-bottom: 4px;\n",
              "    }\n",
              "\n",
              "    [theme=dark] .colab-df-convert {\n",
              "      background-color: #3B4455;\n",
              "      fill: #D2E3FC;\n",
              "    }\n",
              "\n",
              "    [theme=dark] .colab-df-convert:hover {\n",
              "      background-color: #434B5C;\n",
              "      box-shadow: 0px 1px 3px 1px rgba(0, 0, 0, 0.15);\n",
              "      filter: drop-shadow(0px 1px 2px rgba(0, 0, 0, 0.3));\n",
              "      fill: #FFFFFF;\n",
              "    }\n",
              "  </style>\n",
              "\n",
              "    <script>\n",
              "      const buttonEl =\n",
              "        document.querySelector('#df-9617b7e8-da16-46e1-84fc-f376e53ee6f9 button.colab-df-convert');\n",
              "      buttonEl.style.display =\n",
              "        google.colab.kernel.accessAllowed ? 'block' : 'none';\n",
              "\n",
              "      async function convertToInteractive(key) {\n",
              "        const element = document.querySelector('#df-9617b7e8-da16-46e1-84fc-f376e53ee6f9');\n",
              "        const dataTable =\n",
              "          await google.colab.kernel.invokeFunction('convertToInteractive',\n",
              "                                                    [key], {});\n",
              "        if (!dataTable) return;\n",
              "\n",
              "        const docLinkHtml = 'Like what you see? Visit the ' +\n",
              "          '<a target=\"_blank\" href=https://colab.research.google.com/notebooks/data_table.ipynb>data table notebook</a>'\n",
              "          + ' to learn more about interactive tables.';\n",
              "        element.innerHTML = '';\n",
              "        dataTable['output_type'] = 'display_data';\n",
              "        await google.colab.output.renderOutput(dataTable, element);\n",
              "        const docLink = document.createElement('div');\n",
              "        docLink.innerHTML = docLinkHtml;\n",
              "        element.appendChild(docLink);\n",
              "      }\n",
              "    </script>\n",
              "  </div>\n",
              "\n",
              "\n",
              "<div id=\"df-7ddd0e6d-d0d7-4fd0-b68e-395442732ad0\">\n",
              "  <button class=\"colab-df-quickchart\" onclick=\"quickchart('df-7ddd0e6d-d0d7-4fd0-b68e-395442732ad0')\"\n",
              "            title=\"Suggest charts\"\n",
              "            style=\"display:none;\">\n",
              "\n",
              "<svg xmlns=\"http://www.w3.org/2000/svg\" height=\"24px\"viewBox=\"0 0 24 24\"\n",
              "     width=\"24px\">\n",
              "    <g>\n",
              "        <path d=\"M19 3H5c-1.1 0-2 .9-2 2v14c0 1.1.9 2 2 2h14c1.1 0 2-.9 2-2V5c0-1.1-.9-2-2-2zM9 17H7v-7h2v7zm4 0h-2V7h2v10zm4 0h-2v-4h2v4z\"/>\n",
              "    </g>\n",
              "</svg>\n",
              "  </button>\n",
              "\n",
              "<style>\n",
              "  .colab-df-quickchart {\n",
              "      --bg-color: #E8F0FE;\n",
              "      --fill-color: #1967D2;\n",
              "      --hover-bg-color: #E2EBFA;\n",
              "      --hover-fill-color: #174EA6;\n",
              "      --disabled-fill-color: #AAA;\n",
              "      --disabled-bg-color: #DDD;\n",
              "  }\n",
              "\n",
              "  [theme=dark] .colab-df-quickchart {\n",
              "      --bg-color: #3B4455;\n",
              "      --fill-color: #D2E3FC;\n",
              "      --hover-bg-color: #434B5C;\n",
              "      --hover-fill-color: #FFFFFF;\n",
              "      --disabled-bg-color: #3B4455;\n",
              "      --disabled-fill-color: #666;\n",
              "  }\n",
              "\n",
              "  .colab-df-quickchart {\n",
              "    background-color: var(--bg-color);\n",
              "    border: none;\n",
              "    border-radius: 50%;\n",
              "    cursor: pointer;\n",
              "    display: none;\n",
              "    fill: var(--fill-color);\n",
              "    height: 32px;\n",
              "    padding: 0;\n",
              "    width: 32px;\n",
              "  }\n",
              "\n",
              "  .colab-df-quickchart:hover {\n",
              "    background-color: var(--hover-bg-color);\n",
              "    box-shadow: 0 1px 2px rgba(60, 64, 67, 0.3), 0 1px 3px 1px rgba(60, 64, 67, 0.15);\n",
              "    fill: var(--button-hover-fill-color);\n",
              "  }\n",
              "\n",
              "  .colab-df-quickchart-complete:disabled,\n",
              "  .colab-df-quickchart-complete:disabled:hover {\n",
              "    background-color: var(--disabled-bg-color);\n",
              "    fill: var(--disabled-fill-color);\n",
              "    box-shadow: none;\n",
              "  }\n",
              "\n",
              "  .colab-df-spinner {\n",
              "    border: 2px solid var(--fill-color);\n",
              "    border-color: transparent;\n",
              "    border-bottom-color: var(--fill-color);\n",
              "    animation:\n",
              "      spin 1s steps(1) infinite;\n",
              "  }\n",
              "\n",
              "  @keyframes spin {\n",
              "    0% {\n",
              "      border-color: transparent;\n",
              "      border-bottom-color: var(--fill-color);\n",
              "      border-left-color: var(--fill-color);\n",
              "    }\n",
              "    20% {\n",
              "      border-color: transparent;\n",
              "      border-left-color: var(--fill-color);\n",
              "      border-top-color: var(--fill-color);\n",
              "    }\n",
              "    30% {\n",
              "      border-color: transparent;\n",
              "      border-left-color: var(--fill-color);\n",
              "      border-top-color: var(--fill-color);\n",
              "      border-right-color: var(--fill-color);\n",
              "    }\n",
              "    40% {\n",
              "      border-color: transparent;\n",
              "      border-right-color: var(--fill-color);\n",
              "      border-top-color: var(--fill-color);\n",
              "    }\n",
              "    60% {\n",
              "      border-color: transparent;\n",
              "      border-right-color: var(--fill-color);\n",
              "    }\n",
              "    80% {\n",
              "      border-color: transparent;\n",
              "      border-right-color: var(--fill-color);\n",
              "      border-bottom-color: var(--fill-color);\n",
              "    }\n",
              "    90% {\n",
              "      border-color: transparent;\n",
              "      border-bottom-color: var(--fill-color);\n",
              "    }\n",
              "  }\n",
              "</style>\n",
              "\n",
              "  <script>\n",
              "    async function quickchart(key) {\n",
              "      const quickchartButtonEl =\n",
              "        document.querySelector('#' + key + ' button');\n",
              "      quickchartButtonEl.disabled = true;  // To prevent multiple clicks.\n",
              "      quickchartButtonEl.classList.add('colab-df-spinner');\n",
              "      try {\n",
              "        const charts = await google.colab.kernel.invokeFunction(\n",
              "            'suggestCharts', [key], {});\n",
              "      } catch (error) {\n",
              "        console.error('Error during call to suggestCharts:', error);\n",
              "      }\n",
              "      quickchartButtonEl.classList.remove('colab-df-spinner');\n",
              "      quickchartButtonEl.classList.add('colab-df-quickchart-complete');\n",
              "    }\n",
              "    (() => {\n",
              "      let quickchartButtonEl =\n",
              "        document.querySelector('#df-7ddd0e6d-d0d7-4fd0-b68e-395442732ad0 button');\n",
              "      quickchartButtonEl.style.display =\n",
              "        google.colab.kernel.accessAllowed ? 'block' : 'none';\n",
              "    })();\n",
              "  </script>\n",
              "</div>\n",
              "    </div>\n",
              "  </div>\n"
            ],
            "application/vnd.google.colaboratory.intrinsic+json": {
              "type": "dataframe",
              "summary": "{\n  \"name\": \"data[(data['x'] == 0) | (data['y'] == 0) | (data['z'] == 0)]\",\n  \"rows\": 17,\n  \"fields\": [\n    {\n      \"column\": \"Id\",\n      \"properties\": {\n        \"dtype\": \"number\",\n        \"std\": 13767,\n        \"min\": 572,\n        \"max\": 42899,\n        \"num_unique_values\": 17,\n        \"samples\": [\n          572,\n          904,\n          11222\n        ],\n        \"semantic_type\": \"\",\n        \"description\": \"\"\n      }\n    },\n    {\n      \"column\": \"carat\",\n      \"properties\": {\n        \"dtype\": \"number\",\n        \"std\": 0.6316394401499492,\n        \"min\": 0.71,\n        \"max\": 2.8,\n        \"num_unique_values\": 14,\n        \"samples\": [\n          1.15,\n          2.18,\n          1.1\n        ],\n        \"semantic_type\": \"\",\n        \"description\": \"\"\n      }\n    },\n    {\n      \"column\": \"cut\",\n      \"properties\": {\n        \"dtype\": \"category\",\n        \"num_unique_values\": 5,\n        \"samples\": [\n          \"Fair\",\n          \"Very Good\",\n          \"Good\"\n        ],\n        \"semantic_type\": \"\",\n        \"description\": \"\"\n      }\n    },\n    {\n      \"column\": \"color\",\n      \"properties\": {\n        \"dtype\": \"category\",\n        \"num_unique_values\": 4,\n        \"samples\": [\n          \"I\",\n          \"H\",\n          \"G\"\n        ],\n        \"semantic_type\": \"\",\n        \"description\": \"\"\n      }\n    },\n    {\n      \"column\": \"clarity\",\n      \"properties\": {\n        \"dtype\": \"category\",\n        \"num_unique_values\": 5,\n        \"samples\": [\n          \"SI1\",\n          \"VS2\",\n          \"VS1\"\n        ],\n        \"semantic_type\": \"\",\n        \"description\": \"\"\n      }\n    },\n    {\n      \"column\": \"depth\",\n      \"properties\": {\n        \"dtype\": \"number\",\n        \"std\": 2.1683044338023785,\n        \"min\": 57.5,\n        \"max\": 64.1,\n        \"num_unique_values\": 16,\n        \"samples\": [\n          63.0,\n          61.3,\n          63.8\n        ],\n        \"semantic_type\": \"\",\n        \"description\": \"\"\n      }\n    },\n    {\n      \"column\": \"table\",\n      \"properties\": {\n        \"dtype\": \"number\",\n        \"std\": 3.184290483349932,\n        \"min\": 53.0,\n        \"max\": 67.0,\n        \"num_unique_values\": 7,\n        \"samples\": [\n          59.0,\n          58.0,\n          53.0\n        ],\n        \"semantic_type\": \"\",\n        \"description\": \"\"\n      }\n    },\n    {\n      \"column\": \"price\",\n      \"properties\": {\n        \"dtype\": \"number\",\n        \"std\": 6439,\n        \"min\": 2130,\n        \"max\": 18788,\n        \"num_unique_values\": 17,\n        \"samples\": [\n          3696,\n          15397,\n          18788\n        ],\n        \"semantic_type\": \"\",\n        \"description\": \"\"\n      }\n    },\n    {\n      \"column\": \"x\",\n      \"properties\": {\n        \"dtype\": \"number\",\n        \"std\": 3.581626314793816,\n        \"min\": 0.0,\n        \"max\": 8.9,\n        \"num_unique_values\": 12,\n        \"samples\": [\n          8.49,\n          6.66,\n          6.5\n        ],\n        \"semantic_type\": \"\",\n        \"description\": \"\"\n      }\n    },\n    {\n      \"column\": \"y\",\n      \"properties\": {\n        \"dtype\": \"number\",\n        \"std\": 3.3008784481425186,\n        \"min\": 0.0,\n        \"max\": 8.85,\n        \"num_unique_values\": 13,\n        \"samples\": [\n          6.62,\n          6.6,\n          6.47\n        ],\n        \"semantic_type\": \"\",\n        \"description\": \"\"\n      }\n    },\n    {\n      \"column\": \"z\",\n      \"properties\": {\n        \"dtype\": \"number\",\n        \"std\": 0.0,\n        \"min\": 0.0,\n        \"max\": 0.0,\n        \"num_unique_values\": 1,\n        \"samples\": [\n          0.0\n        ],\n        \"semantic_type\": \"\",\n        \"description\": \"\"\n      }\n    }\n  ]\n}"
            }
          },
          "metadata": {},
          "execution_count": 6
        }
      ]
    },
    {
      "cell_type": "code",
      "execution_count": 7,
      "metadata": {
        "colab": {
          "base_uri": "https://localhost:8080/",
          "height": 313
        },
        "id": "Gj9j7Y9ibGmz",
        "outputId": "c9d48d65-764f-49f3-e9fe-b94c572ed909"
      },
      "outputs": [
        {
          "output_type": "execute_result",
          "data": {
            "text/plain": [
              "<Axes: >"
            ]
          },
          "metadata": {},
          "execution_count": 7
        },
        {
          "output_type": "display_data",
          "data": {
            "text/plain": [
              "<Figure size 1500x500 with 1 Axes>"
            ],
            "image/png": "[encoded data removed]"
          },
          "metadata": {}
        }
      ],
      "source": [
        "plt.figure(figsize=(15,5))\n",
        "sns.boxplot(data[['carat','x','y']])"
      ]
    },
    {
      "cell_type": "code",
      "execution_count": null,
      "metadata": {
        "colab": {
          "base_uri": "https://localhost:8080/",
          "height": 631
        },
        "id": "lHxNDC2Gd_LF",
        "outputId": "8fdbc714-60bc-43f8-d0f1-a300fd69fb4d"
      },
      "outputs": [
        {
          "output_type": "stream",
          "name": "stdout",
          "text": [
            "color\n",
            "G    9060\n",
            "E    7832\n",
            "F    7633\n",
            "H    6651\n",
            "D    5421\n",
            "I    4265\n",
            "J    2290\n",
            "Name: count, dtype: int64\n"
          ]
        },
        {
          "output_type": "execute_result",
          "data": {
            "text/plain": [
              "<Axes: xlabel='color'>"
            ]
          },
          "metadata": {},
          "execution_count": 20
        },
        {
          "output_type": "display_data",
          "data": {
            "text/plain": [
              "<Figure size 640x480 with 1 Axes>"
            ],
            "image/png": "[encoded data removed]"
          },
          "metadata": {}
        }
      ],
      "source": [
        "diamondsColors =data['color'].value_counts()\n",
        "print(diamondsColors)\n",
        "sns.barplot(x=diamondsColors.index,y=diamondsColors.values,hue=diamondsColors.values)"
      ]
    },
    {
      "cell_type": "code",
      "execution_count": null,
      "metadata": {
        "colab": {
          "base_uri": "https://localhost:8080/",
          "height": 594
        },
        "id": "eb3PGjL0iIvg",
        "outputId": "e2328e8e-7cdc-4946-d69a-62d40b013d4a"
      },
      "outputs": [
        {
          "output_type": "stream",
          "name": "stdout",
          "text": [
            "cut\n",
            "Ideal        17203\n",
            "Premium      11113\n",
            "Very Good     9658\n",
            "Good          3881\n",
            "Fair          1297\n",
            "Name: count, dtype: int64\n"
          ]
        },
        {
          "output_type": "execute_result",
          "data": {
            "text/plain": [
              "<Axes: xlabel='cut'>"
            ]
          },
          "metadata": {},
          "execution_count": 21
        },
        {
          "output_type": "display_data",
          "data": {
            "text/plain": [
              "<Figure size 640x480 with 1 Axes>"
            ],
            "image/png": "[encoded data removed]"
          },
          "metadata": {}
        }
      ],
      "source": [
        "diamondsCut =data['cut'].value_counts()\n",
        "print(diamondsCut)\n",
        "sns.barplot(x=diamondsCut.index,y=diamondsCut.values,hue=diamondsCut.values)"
      ]
    },
    {
      "cell_type": "code",
      "execution_count": null,
      "metadata": {
        "colab": {
          "base_uri": "https://localhost:8080/",
          "height": 649
        },
        "id": "fiT-ZehikDtJ",
        "outputId": "dee89ee0-382d-4bc7-9162-01f1eae0b38c"
      },
      "outputs": [
        {
          "output_type": "stream",
          "name": "stdout",
          "text": [
            "clarity\n",
            "SI1     10428\n",
            "VS2      9824\n",
            "SI2      7432\n",
            "VS1      6475\n",
            "VVS2     4041\n",
            "VVS1     2904\n",
            "IF       1442\n",
            "I1        606\n",
            "Name: count, dtype: int64\n"
          ]
        },
        {
          "output_type": "execute_result",
          "data": {
            "text/plain": [
              "<Axes: xlabel='clarity'>"
            ]
          },
          "metadata": {},
          "execution_count": 22
        },
        {
          "output_type": "display_data",
          "data": {
            "text/plain": [
              "<Figure size 640x480 with 1 Axes>"
            ],
            "image/png": "[encoded data removed]"
          },
          "metadata": {}
        }
      ],
      "source": [
        "diamondsclarity =data['clarity'].value_counts()\n",
        "print(diamondsclarity)\n",
        "sns.barplot(x=diamondsclarity.index,y=diamondsclarity.values,hue=diamondsclarity.values)"
      ]
    },
    {
      "cell_type": "code",
      "execution_count": null,
      "metadata": {
        "colab": {
          "base_uri": "https://localhost:8080/",
          "height": 195
        },
        "id": "TjcYetHFqJeR",
        "outputId": "c26bee1d-af0a-4e20-c00b-7689348946fc"
      },
      "outputs": [
        {
          "output_type": "stream",
          "name": "stdout",
          "text": [
            "Index(['Id', 'carat', 'depth', 'table', 'price', 'x', 'y', 'z'], dtype='object')\n"
          ]
        },
        {
          "output_type": "display_data",
          "data": {
            "text/plain": [
              "<Figure size 1000x1500 with 0 Axes>"
            ]
          },
          "metadata": {}
        },
        {
          "output_type": "display_data",
          "data": {
            "text/plain": [
              "<Figure size 2000x250 with 9 Axes>"
            ],
            "image/png": "[encoded data removed]"
          },
          "metadata": {}
        }
      ],
      "source": [
        "attributes = data.select_dtypes(exclude='object').columns\n",
        "print(attributes)\n",
        "plt.figure(figsize=(10,15))\n",
        "sns.pairplot(data[attributes],y_vars='price',)\n",
        "plt.show()"
      ]
    },
    {
      "cell_type": "markdown",
      "metadata": {
        "id": "6jtwUuBob033"
      },
      "source": [
        "# Correlations"
      ]
    },
    {
      "cell_type": "code",
      "execution_count": 7,
      "metadata": {
        "id": "vzzt0zkRb0YG"
      },
      "outputs": [],
      "source": [
        "def calculate_corr(d,attr):\n",
        "  corr_matrix = d.select_dtypes(exclude=['object']).corr()\n",
        "  corr_res=corr_matrix[attr].sort_values(ascending=False)\n",
        "  print(corr_res)\n",
        "  return\n",
        "\n"
      ]
    },
    {
      "cell_type": "code",
      "execution_count": 8,
      "metadata": {
        "colab": {
          "base_uri": "https://localhost:8080/"
        },
        "id": "AJtKcDTlc4Vt",
        "outputId": "af4c8dc0-f4b7-4dbe-d962-5f0d2b88163a"
      },
      "outputs": [
        {
          "output_type": "stream",
          "name": "stdout",
          "text": [
            "price    1.000000\n",
            "carat    0.921911\n",
            "x        0.885181\n",
            "y        0.861354\n",
            "z        0.857665\n",
            "table    0.128501\n",
            "Id      -0.001111\n",
            "depth   -0.013137\n",
            "Name: price, dtype: float64\n"
          ]
        }
      ],
      "source": [
        "calculate_corr(data,\"price\")"
      ]
    },
    {
      "cell_type": "markdown",
      "metadata": {
        "id": "-334E359X8SI"
      },
      "source": [
        "# Splitting Data"
      ]
    },
    {
      "cell_type": "code",
      "execution_count": 9,
      "metadata": {
        "id": "CkbcWoc8YCK3"
      },
      "outputs": [],
      "source": [
        "from sklearn.model_selection import train_test_split\n",
        "train_set, test_set = train_test_split(data, test_size=0.2, random_state=42,)"
      ]
    },
    {
      "cell_type": "markdown",
      "metadata": {
        "id": "mMOlfiJOZGuO"
      },
      "source": [
        "# Prepare the Data for Machine Learning Algorithms"
      ]
    },
    {
      "cell_type": "code",
      "execution_count": 10,
      "metadata": {
        "id": "cO323FDegFWP"
      },
      "outputs": [],
      "source": [
        "data=train_set.copy()"
      ]
    },
    {
      "cell_type": "markdown",
      "source": [
        "## Splitting to samples and labels"
      ],
      "metadata": {
        "id": "62H8cI__wS8C"
      }
    },
    {
      "cell_type": "code",
      "execution_count": 11,
      "metadata": {
        "colab": {
          "base_uri": "https://localhost:8080/"
        },
        "id": "-wv_E2sXfb2I",
        "outputId": "1e914a0b-4377-401e-c346-20c01d9e701a"
      },
      "outputs": [
        {
          "output_type": "stream",
          "name": "stdout",
          "text": [
            "          Id  carat        cut color clarity  depth  table     x     y     z\n",
            "21805  21806   1.55    Premium     J     VS1   62.6   59.0  7.40  7.35  4.62\n",
            "22939  22940   1.04    Premium     G      I1   62.2   58.0  6.46  6.41  4.00\n",
            "33888  33889   1.22    Premium     G     VS2   61.8   58.0  6.91  6.84  4.25\n",
            "35779  35780   0.51      Ideal     H      IF   62.6   56.0  5.10  5.13  3.20\n",
            "20589  20590   0.41      Ideal     E     SI1   62.1   54.0  4.81  4.76  2.97\n",
            "...      ...    ...        ...   ...     ...    ...    ...   ...   ...   ...\n",
            "6265    6266   0.74  Very Good     G     SI1   63.5   60.0  5.73  5.68  3.62\n",
            "11284  11285   1.04  Very Good     G     VS2   61.9   57.0  6.46  6.50  4.01\n",
            "38158  38159   0.30    Premium     D     SI1   62.7   60.0  4.26  4.23  2.66\n",
            "860      861   1.50      Ideal     I     SI1   59.4   60.0  7.54  7.50  4.47\n",
            "15795  15796   0.41      Ideal     G    VVS1   61.5   57.0  4.79  4.82  2.95\n",
            "\n",
            "[34521 rows x 10 columns]\n",
            "21805    8749\n",
            "22939    2801\n",
            "33888    8362\n",
            "35779    1920\n",
            "20589     969\n",
            "         ... \n",
            "6265     2468\n",
            "11284    6177\n",
            "38158     709\n",
            "860      8555\n",
            "15795    1123\n",
            "Name: price, Length: 34521, dtype: int64\n"
          ]
        }
      ],
      "source": [
        "samples = data.drop(\"price\", axis=1)\n",
        "labels = data[\"price\"].copy()\n",
        "\n",
        "print(samples)\n",
        "print(labels)\n",
        "\n"
      ]
    },
    {
      "cell_type": "code",
      "execution_count": 12,
      "metadata": {
        "colab": {
          "base_uri": "https://localhost:8080/"
        },
        "id": "BhYpfU68arPw",
        "outputId": "fad4b387-a594-4b0f-fab8-5344b325468d"
      },
      "outputs": [
        {
          "output_type": "stream",
          "name": "stdout",
          "text": [
            "          Id  carat        cut color clarity  depth  table  price     x     y  \\\n",
            "0      21806   1.55    Premium     J     VS1   62.6   59.0   8749  7.40  7.35   \n",
            "1      22940   1.04    Premium     G      I1   62.2   58.0   2801  6.46  6.41   \n",
            "2      33889   1.22    Premium     G     VS2   61.8   58.0   8362  6.91  6.84   \n",
            "3      35780   0.51      Ideal     H      IF   62.6   56.0   1920  5.10  5.13   \n",
            "4      20590   0.41      Ideal     E     SI1   62.1   54.0    969  4.81  4.76   \n",
            "...      ...    ...        ...   ...     ...    ...    ...    ...   ...   ...   \n",
            "34516   6266   0.74  Very Good     G     SI1   63.5   60.0   2468  5.73  5.68   \n",
            "34517  11285   1.04  Very Good     G     VS2   61.9   57.0   6177  6.46  6.50   \n",
            "34518  38159   0.30    Premium     D     SI1   62.7   60.0    709  4.26  4.23   \n",
            "34519    861   1.50      Ideal     I     SI1   59.4   60.0   8555  7.54  7.50   \n",
            "34520  15796   0.41      Ideal     G    VVS1   61.5   57.0   1123  4.79  4.82   \n",
            "\n",
            "          z  \n",
            "0      4.62  \n",
            "1      4.00  \n",
            "2      4.25  \n",
            "3      3.20  \n",
            "4      2.97  \n",
            "...     ...  \n",
            "34516  3.62  \n",
            "34517  4.01  \n",
            "34518  2.66  \n",
            "34519  4.47  \n",
            "34520  2.95  \n",
            "\n",
            "[34521 rows x 11 columns]\n"
          ]
        }
      ],
      "source": [
        "data = data.reset_index(drop=True)\n",
        "print(data)"
      ]
    },
    {
      "cell_type": "code",
      "execution_count": 13,
      "metadata": {
        "colab": {
          "base_uri": "https://localhost:8080/"
        },
        "id": "pMmrJ4jdZwvE",
        "outputId": "f0716f47-6538-4e7e-a5e1-989389017be4"
      },
      "outputs": [
        {
          "output_type": "stream",
          "name": "stdout",
          "text": [
            "       carat        cut color clarity  depth  table  price     x     y     z\n",
            "0       1.55    Premium     J     VS1   62.6   59.0   8749  7.40  7.35  4.62\n",
            "1       1.04    Premium     G      I1   62.2   58.0   2801  6.46  6.41  4.00\n",
            "2       1.22    Premium     G     VS2   61.8   58.0   8362  6.91  6.84  4.25\n",
            "3       0.51      Ideal     H      IF   62.6   56.0   1920  5.10  5.13  3.20\n",
            "4       0.41      Ideal     E     SI1   62.1   54.0    969  4.81  4.76  2.97\n",
            "...      ...        ...   ...     ...    ...    ...    ...   ...   ...   ...\n",
            "34516   0.74  Very Good     G     SI1   63.5   60.0   2468  5.73  5.68  3.62\n",
            "34517   1.04  Very Good     G     VS2   61.9   57.0   6177  6.46  6.50  4.01\n",
            "34518   0.30    Premium     D     SI1   62.7   60.0    709  4.26  4.23  2.66\n",
            "34519   1.50      Ideal     I     SI1   59.4   60.0   8555  7.54  7.50  4.47\n",
            "34520   0.41      Ideal     G    VVS1   61.5   57.0   1123  4.79  4.82  2.95\n",
            "\n",
            "[34521 rows x 10 columns]\n"
          ]
        }
      ],
      "source": [
        "data.drop('Id',inplace=True,errors='ignore',axis=1)\n",
        "\n",
        "print(data)"
      ]
    },
    {
      "cell_type": "code",
      "source": [
        "def convertToDf(x,columns):\n",
        "  df=pd.DataFrame(x,columns=columns)\n",
        "  df=df.apply(pd.to_numeric, errors='ignore')\n",
        "  return df\n",
        "\n"
      ],
      "metadata": {
        "id": "EHfAGIUtUMaU"
      },
      "execution_count": 14,
      "outputs": []
    },
    {
      "cell_type": "markdown",
      "source": [
        "## Filling zero values in dimensions"
      ],
      "metadata": {
        "id": "kFhbKgT5wZ-W"
      }
    },
    {
      "cell_type": "code",
      "source": [
        "from sklearn.impute import SimpleImputer\n",
        "imputer = SimpleImputer(missing_values=0,strategy=\"median\")\n",
        "data[['x', 'y', 'z']] = imputer.fit_transform(data[['x', 'y', 'z']])\n",
        "\n"
      ],
      "metadata": {
        "id": "O7AGjR30Yqzd"
      },
      "execution_count": 15,
      "outputs": []
    },
    {
      "cell_type": "code",
      "source": [
        "data"
      ],
      "metadata": {
        "colab": {
          "base_uri": "https://localhost:8080/",
          "height": 423
        },
        "id": "DLaFphlMUhei",
        "outputId": "6154f436-c757-48b4-f2a2-5edf26c5b2ee"
      },
      "execution_count": 13,
      "outputs": [
        {
          "output_type": "execute_result",
          "data": {
            "text/plain": [
              "       carat        cut color clarity  depth  table  price     x     y     z\n",
              "0       1.55    Premium     J     VS1   62.6   59.0   8749  7.40  7.35  4.62\n",
              "1       1.04    Premium     G      I1   62.2   58.0   2801  6.46  6.41  4.00\n",
              "2       1.22    Premium     G     VS2   61.8   58.0   8362  6.91  6.84  4.25\n",
              "3       0.51      Ideal     H      IF   62.6   56.0   1920  5.10  5.13  3.20\n",
              "4       0.41      Ideal     E     SI1   62.1   54.0    969  4.81  4.76  2.97\n",
              "...      ...        ...   ...     ...    ...    ...    ...   ...   ...   ...\n",
              "34516   0.74  Very Good     G     SI1   63.5   60.0   2468  5.73  5.68  3.62\n",
              "34517   1.04  Very Good     G     VS2   61.9   57.0   6177  6.46  6.50  4.01\n",
              "34518   0.30    Premium     D     SI1   62.7   60.0    709  4.26  4.23  2.66\n",
              "34519   1.50      Ideal     I     SI1   59.4   60.0   8555  7.54  7.50  4.47\n",
              "34520   0.41      Ideal     G    VVS1   61.5   57.0   1123  4.79  4.82  2.95\n",
              "\n",
              "[34521 rows x 10 columns]"
            ],
            "text/html": [
              "\n",
              "  <div id=\"df-f523ec55-1953-4c61-a12d-680b072f50b6\" class=\"colab-df-container\">\n",
              "    <div>\n",
              "<style scoped>\n",
              "    .dataframe tbody tr th:only-of-type {\n",
              "        vertical-align: middle;\n",
              "    }\n",
              "\n",
              "    .dataframe tbody tr th {\n",
              "        vertical-align: top;\n",
              "    }\n",
              "\n",
              "    .dataframe thead th {\n",
              "        text-align: right;\n",
              "    }\n",
              "</style>\n",
              "<table border=\"1\" class=\"dataframe\">\n",
              "  <thead>\n",
              "    <tr style=\"text-align: right;\">\n",
              "      <th></th>\n",
              "      <th>carat</th>\n",
              "      <th>cut</th>\n",
              "      <th>color</th>\n",
              "      <th>clarity</th>\n",
              "      <th>depth</th>\n",
              "      <th>table</th>\n",
              "      <th>price</th>\n",
              "      <th>x</th>\n",
              "      <th>y</th>\n",
              "      <th>z</th>\n",
              "    </tr>\n",
              "  </thead>\n",
              "  <tbody>\n",
              "    <tr>\n",
              "      <th>0</th>\n",
              "      <td>1.55</td>\n",
              "      <td>Premium</td>\n",
              "      <td>J</td>\n",
              "      <td>VS1</td>\n",
              "      <td>62.6</td>\n",
              "      <td>59.0</td>\n",
              "      <td>8749</td>\n",
              "      <td>7.40</td>\n",
              "      <td>7.35</td>\n",
              "      <td>4.62</td>\n",
              "    </tr>\n",
              "    <tr>\n",
              "      <th>1</th>\n",
              "      <td>1.04</td>\n",
              "      <td>Premium</td>\n",
              "      <td>G</td>\n",
              "      <td>I1</td>\n",
              "      <td>62.2</td>\n",
              "      <td>58.0</td>\n",
              "      <td>2801</td>\n",
              "      <td>6.46</td>\n",
              "      <td>6.41</td>\n",
              "      <td>4.00</td>\n",
              "    </tr>\n",
              "    <tr>\n",
              "      <th>2</th>\n",
              "      <td>1.22</td>\n",
              "      <td>Premium</td>\n",
              "      <td>G</td>\n",
              "      <td>VS2</td>\n",
              "      <td>61.8</td>\n",
              "      <td>58.0</td>\n",
              "      <td>8362</td>\n",
              "      <td>6.91</td>\n",
              "      <td>6.84</td>\n",
              "      <td>4.25</td>\n",
              "    </tr>\n",
              "    <tr>\n",
              "      <th>3</th>\n",
              "      <td>0.51</td>\n",
              "      <td>Ideal</td>\n",
              "      <td>H</td>\n",
              "      <td>IF</td>\n",
              "      <td>62.6</td>\n",
              "      <td>56.0</td>\n",
              "      <td>1920</td>\n",
              "      <td>5.10</td>\n",
              "      <td>5.13</td>\n",
              "      <td>3.20</td>\n",
              "    </tr>\n",
              "    <tr>\n",
              "      <th>4</th>\n",
              "      <td>0.41</td>\n",
              "      <td>Ideal</td>\n",
              "      <td>E</td>\n",
              "      <td>SI1</td>\n",
              "      <td>62.1</td>\n",
              "      <td>54.0</td>\n",
              "      <td>969</td>\n",
              "      <td>4.81</td>\n",
              "      <td>4.76</td>\n",
              "      <td>2.97</td>\n",
              "    </tr>\n",
              "    <tr>\n",
              "      <th>...</th>\n",
              "      <td>...</td>\n",
              "      <td>...</td>\n",
              "      <td>...</td>\n",
              "      <td>...</td>\n",
              "      <td>...</td>\n",
              "      <td>...</td>\n",
              "      <td>...</td>\n",
              "      <td>...</td>\n",
              "      <td>...</td>\n",
              "      <td>...</td>\n",
              "    </tr>\n",
              "    <tr>\n",
              "      <th>34516</th>\n",
              "      <td>0.74</td>\n",
              "      <td>Very Good</td>\n",
              "      <td>G</td>\n",
              "      <td>SI1</td>\n",
              "      <td>63.5</td>\n",
              "      <td>60.0</td>\n",
              "      <td>2468</td>\n",
              "      <td>5.73</td>\n",
              "      <td>5.68</td>\n",
              "      <td>3.62</td>\n",
              "    </tr>\n",
              "    <tr>\n",
              "      <th>34517</th>\n",
              "      <td>1.04</td>\n",
              "      <td>Very Good</td>\n",
              "      <td>G</td>\n",
              "      <td>VS2</td>\n",
              "      <td>61.9</td>\n",
              "      <td>57.0</td>\n",
              "      <td>6177</td>\n",
              "      <td>6.46</td>\n",
              "      <td>6.50</td>\n",
              "      <td>4.01</td>\n",
              "    </tr>\n",
              "    <tr>\n",
              "      <th>34518</th>\n",
              "      <td>0.30</td>\n",
              "      <td>Premium</td>\n",
              "      <td>D</td>\n",
              "      <td>SI1</td>\n",
              "      <td>62.7</td>\n",
              "      <td>60.0</td>\n",
              "      <td>709</td>\n",
              "      <td>4.26</td>\n",
              "      <td>4.23</td>\n",
              "      <td>2.66</td>\n",
              "    </tr>\n",
              "    <tr>\n",
              "      <th>34519</th>\n",
              "      <td>1.50</td>\n",
              "      <td>Ideal</td>\n",
              "      <td>I</td>\n",
              "      <td>SI1</td>\n",
              "      <td>59.4</td>\n",
              "      <td>60.0</td>\n",
              "      <td>8555</td>\n",
              "      <td>7.54</td>\n",
              "      <td>7.50</td>\n",
              "      <td>4.47</td>\n",
              "    </tr>\n",
              "    <tr>\n",
              "      <th>34520</th>\n",
              "      <td>0.41</td>\n",
              "      <td>Ideal</td>\n",
              "      <td>G</td>\n",
              "      <td>VVS1</td>\n",
              "      <td>61.5</td>\n",
              "      <td>57.0</td>\n",
              "      <td>1123</td>\n",
              "      <td>4.79</td>\n",
              "      <td>4.82</td>\n",
              "      <td>2.95</td>\n",
              "    </tr>\n",
              "  </tbody>\n",
              "</table>\n",
              "<p>34521 rows × 10 columns</p>\n",
              "</div>\n",
              "    <div class=\"colab-df-buttons\">\n",
              "\n",
              "  <div class=\"colab-df-container\">\n",
              "    <button class=\"colab-df-convert\" onclick=\"convertToInteractive('df-f523ec55-1953-4c61-a12d-680b072f50b6')\"\n",
              "            title=\"Convert this dataframe to an interactive table.\"\n",
              "            style=\"display:none;\">\n",
              "\n",
              "  <svg xmlns=\"http://www.w3.org/2000/svg\" height=\"24px\" viewBox=\"0 -960 960 960\">\n",
              "    <path d=\"M120-120v-720h720v720H120Zm60-500h600v-160H180v160Zm220 220h160v-160H400v160Zm0 220h160v-160H400v160ZM180-400h160v-160H180v160Zm440 0h160v-160H620v160ZM180-180h160v-160H180v160Zm440 0h160v-160H620v160Z\"/>\n",
              "  </svg>\n",
              "    </button>\n",
              "\n",
              "  <style>\n",
              "    .colab-df-container {\n",
              "      display:flex;\n",
              "      gap: 12px;\n",
              "    }\n",
              "\n",
              "    .colab-df-convert {\n",
              "      background-color: #E8F0FE;\n",
              "      border: none;\n",
              "      border-radius: 50%;\n",
              "      cursor: pointer;\n",
              "      display: none;\n",
              "      fill: #1967D2;\n",
              "      height: 32px;\n",
              "      padding: 0 0 0 0;\n",
              "      width: 32px;\n",
              "    }\n",
              "\n",
              "    .colab-df-convert:hover {\n",
              "      background-color: #E2EBFA;\n",
              "      box-shadow: 0px 1px 2px rgba(60, 64, 67, 0.3), 0px 1px 3px 1px rgba(60, 64, 67, 0.15);\n",
              "      fill: #174EA6;\n",
              "    }\n",
              "\n",
              "    .colab-df-buttons div {\n",
              "      margin-bottom: 4px;\n",
              "    }\n",
              "\n",
              "    [theme=dark] .colab-df-convert {\n",
              "      background-color: #3B4455;\n",
              "      fill: #D2E3FC;\n",
              "    }\n",
              "\n",
              "    [theme=dark] .colab-df-convert:hover {\n",
              "      background-color: #434B5C;\n",
              "      box-shadow: 0px 1px 3px 1px rgba(0, 0, 0, 0.15);\n",
              "      filter: drop-shadow(0px 1px 2px rgba(0, 0, 0, 0.3));\n",
              "      fill: #FFFFFF;\n",
              "    }\n",
              "  </style>\n",
              "\n",
              "    <script>\n",
              "      const buttonEl =\n",
              "        document.querySelector('#df-f523ec55-1953-4c61-a12d-680b072f50b6 button.colab-df-convert');\n",
              "      buttonEl.style.display =\n",
              "        google.colab.kernel.accessAllowed ? 'block' : 'none';\n",
              "\n",
              "      async function convertToInteractive(key) {\n",
              "        const element = document.querySelector('#df-f523ec55-1953-4c61-a12d-680b072f50b6');\n",
              "        const dataTable =\n",
              "          await google.colab.kernel.invokeFunction('convertToInteractive',\n",
              "                                                    [key], {});\n",
              "        if (!dataTable) return;\n",
              "\n",
              "        const docLinkHtml = 'Like what you see? Visit the ' +\n",
              "          '<a target=\"_blank\" href=https://colab.research.google.com/notebooks/data_table.ipynb>data table notebook</a>'\n",
              "          + ' to learn more about interactive tables.';\n",
              "        element.innerHTML = '';\n",
              "        dataTable['output_type'] = 'display_data';\n",
              "        await google.colab.output.renderOutput(dataTable, element);\n",
              "        const docLink = document.createElement('div');\n",
              "        docLink.innerHTML = docLinkHtml;\n",
              "        element.appendChild(docLink);\n",
              "      }\n",
              "    </script>\n",
              "  </div>\n",
              "\n",
              "\n",
              "<div id=\"df-90c4afd6-ea12-412a-a415-187c12f4a1d8\">\n",
              "  <button class=\"colab-df-quickchart\" onclick=\"quickchart('df-90c4afd6-ea12-412a-a415-187c12f4a1d8')\"\n",
              "            title=\"Suggest charts\"\n",
              "            style=\"display:none;\">\n",
              "\n",
              "<svg xmlns=\"http://www.w3.org/2000/svg\" height=\"24px\"viewBox=\"0 0 24 24\"\n",
              "     width=\"24px\">\n",
              "    <g>\n",
              "        <path d=\"M19 3H5c-1.1 0-2 .9-2 2v14c0 1.1.9 2 2 2h14c1.1 0 2-.9 2-2V5c0-1.1-.9-2-2-2zM9 17H7v-7h2v7zm4 0h-2V7h2v10zm4 0h-2v-4h2v4z\"/>\n",
              "    </g>\n",
              "</svg>\n",
              "  </button>\n",
              "\n",
              "<style>\n",
              "  .colab-df-quickchart {\n",
              "      --bg-color: #E8F0FE;\n",
              "      --fill-color: #1967D2;\n",
              "      --hover-bg-color: #E2EBFA;\n",
              "      --hover-fill-color: #174EA6;\n",
              "      --disabled-fill-color: #AAA;\n",
              "      --disabled-bg-color: #DDD;\n",
              "  }\n",
              "\n",
              "  [theme=dark] .colab-df-quickchart {\n",
              "      --bg-color: #3B4455;\n",
              "      --fill-color: #D2E3FC;\n",
              "      --hover-bg-color: #434B5C;\n",
              "      --hover-fill-color: #FFFFFF;\n",
              "      --disabled-bg-color: #3B4455;\n",
              "      --disabled-fill-color: #666;\n",
              "  }\n",
              "\n",
              "  .colab-df-quickchart {\n",
              "    background-color: var(--bg-color);\n",
              "    border: none;\n",
              "    border-radius: 50%;\n",
              "    cursor: pointer;\n",
              "    display: none;\n",
              "    fill: var(--fill-color);\n",
              "    height: 32px;\n",
              "    padding: 0;\n",
              "    width: 32px;\n",
              "  }\n",
              "\n",
              "  .colab-df-quickchart:hover {\n",
              "    background-color: var(--hover-bg-color);\n",
              "    box-shadow: 0 1px 2px rgba(60, 64, 67, 0.3), 0 1px 3px 1px rgba(60, 64, 67, 0.15);\n",
              "    fill: var(--button-hover-fill-color);\n",
              "  }\n",
              "\n",
              "  .colab-df-quickchart-complete:disabled,\n",
              "  .colab-df-quickchart-complete:disabled:hover {\n",
              "    background-color: var(--disabled-bg-color);\n",
              "    fill: var(--disabled-fill-color);\n",
              "    box-shadow: none;\n",
              "  }\n",
              "\n",
              "  .colab-df-spinner {\n",
              "    border: 2px solid var(--fill-color);\n",
              "    border-color: transparent;\n",
              "    border-bottom-color: var(--fill-color);\n",
              "    animation:\n",
              "      spin 1s steps(1) infinite;\n",
              "  }\n",
              "\n",
              "  @keyframes spin {\n",
              "    0% {\n",
              "      border-color: transparent;\n",
              "      border-bottom-color: var(--fill-color);\n",
              "      border-left-color: var(--fill-color);\n",
              "    }\n",
              "    20% {\n",
              "      border-color: transparent;\n",
              "      border-left-color: var(--fill-color);\n",
              "      border-top-color: var(--fill-color);\n",
              "    }\n",
              "    30% {\n",
              "      border-color: transparent;\n",
              "      border-left-color: var(--fill-color);\n",
              "      border-top-color: var(--fill-color);\n",
              "      border-right-color: var(--fill-color);\n",
              "    }\n",
              "    40% {\n",
              "      border-color: transparent;\n",
              "      border-right-color: var(--fill-color);\n",
              "      border-top-color: var(--fill-color);\n",
              "    }\n",
              "    60% {\n",
              "      border-color: transparent;\n",
              "      border-right-color: var(--fill-color);\n",
              "    }\n",
              "    80% {\n",
              "      border-color: transparent;\n",
              "      border-right-color: var(--fill-color);\n",
              "      border-bottom-color: var(--fill-color);\n",
              "    }\n",
              "    90% {\n",
              "      border-color: transparent;\n",
              "      border-bottom-color: var(--fill-color);\n",
              "    }\n",
              "  }\n",
              "</style>\n",
              "\n",
              "  <script>\n",
              "    async function quickchart(key) {\n",
              "      const quickchartButtonEl =\n",
              "        document.querySelector('#' + key + ' button');\n",
              "      quickchartButtonEl.disabled = true;  // To prevent multiple clicks.\n",
              "      quickchartButtonEl.classList.add('colab-df-spinner');\n",
              "      try {\n",
              "        const charts = await google.colab.kernel.invokeFunction(\n",
              "            'suggestCharts', [key], {});\n",
              "      } catch (error) {\n",
              "        console.error('Error during call to suggestCharts:', error);\n",
              "      }\n",
              "      quickchartButtonEl.classList.remove('colab-df-spinner');\n",
              "      quickchartButtonEl.classList.add('colab-df-quickchart-complete');\n",
              "    }\n",
              "    (() => {\n",
              "      let quickchartButtonEl =\n",
              "        document.querySelector('#df-90c4afd6-ea12-412a-a415-187c12f4a1d8 button');\n",
              "      quickchartButtonEl.style.display =\n",
              "        google.colab.kernel.accessAllowed ? 'block' : 'none';\n",
              "    })();\n",
              "  </script>\n",
              "</div>\n",
              "    </div>\n",
              "  </div>\n"
            ],
            "application/vnd.google.colaboratory.intrinsic+json": {
              "type": "dataframe",
              "variable_name": "data",
              "summary": "{\n  \"name\": \"data\",\n  \"rows\": 34521,\n  \"fields\": [\n    {\n      \"column\": \"carat\",\n      \"properties\": {\n        \"dtype\": \"number\",\n        \"std\": 0.47523917505792596,\n        \"min\": 0.2,\n        \"max\": 5.01,\n        \"num_unique_values\": 263,\n        \"samples\": [\n          0.94,\n          0.68,\n          3.04\n        ],\n        \"semantic_type\": \"\",\n        \"description\": \"\"\n      }\n    },\n    {\n      \"column\": \"cut\",\n      \"properties\": {\n        \"dtype\": \"category\",\n        \"num_unique_values\": 5,\n        \"samples\": [\n          \"Ideal\",\n          \"Fair\",\n          \"Very Good\"\n        ],\n        \"semantic_type\": \"\",\n        \"description\": \"\"\n      }\n    },\n    {\n      \"column\": \"color\",\n      \"properties\": {\n        \"dtype\": \"category\",\n        \"num_unique_values\": 7,\n        \"samples\": [\n          \"J\",\n          \"G\",\n          \"F\"\n        ],\n        \"semantic_type\": \"\",\n        \"description\": \"\"\n      }\n    },\n    {\n      \"column\": \"clarity\",\n      \"properties\": {\n        \"dtype\": \"category\",\n        \"num_unique_values\": 8,\n        \"samples\": [\n          \"I1\",\n          \"SI2\",\n          \"VS1\"\n        ],\n        \"semantic_type\": \"\",\n        \"description\": \"\"\n      }\n    },\n    {\n      \"column\": \"depth\",\n      \"properties\": {\n        \"dtype\": \"number\",\n        \"std\": 1.4354614472300675,\n        \"min\": 43.0,\n        \"max\": 79.0,\n        \"num_unique_values\": 170,\n        \"samples\": [\n          56.1,\n          62.3,\n          56.5\n        ],\n        \"semantic_type\": \"\",\n        \"description\": \"\"\n      }\n    },\n    {\n      \"column\": \"table\",\n      \"properties\": {\n        \"dtype\": \"number\",\n        \"std\": 2.2308988223468473,\n        \"min\": 43.0,\n        \"max\": 95.0,\n        \"num_unique_values\": 116,\n        \"samples\": [\n          57.9,\n          62.0,\n          57.2\n        ],\n        \"semantic_type\": \"\",\n        \"description\": \"\"\n      }\n    },\n    {\n      \"column\": \"price\",\n      \"properties\": {\n        \"dtype\": \"number\",\n        \"std\": 3998,\n        \"min\": 326,\n        \"max\": 18803,\n        \"num_unique_values\": 9706,\n        \"samples\": [\n          1337,\n          8712,\n          3670\n        ],\n        \"semantic_type\": \"\",\n        \"description\": \"\"\n      }\n    },\n    {\n      \"column\": \"x\",\n      \"properties\": {\n        \"dtype\": \"number\",\n        \"std\": 1.1221326123962534,\n        \"min\": 3.74,\n        \"max\": 10.74,\n        \"num_unique_values\": 540,\n        \"samples\": [\n          4.24,\n          4.36,\n          10.14\n        ],\n        \"semantic_type\": \"\",\n        \"description\": \"\"\n      }\n    },\n    {\n      \"column\": \"y\",\n      \"properties\": {\n        \"dtype\": \"number\",\n        \"std\": 1.122922041665024,\n        \"min\": 3.71,\n        \"max\": 31.8,\n        \"num_unique_values\": 536,\n        \"samples\": [\n          6.0,\n          4.15,\n          7.32\n        ],\n        \"semantic_type\": \"\",\n        \"description\": \"\"\n      }\n    },\n    {\n      \"column\": \"z\",\n      \"properties\": {\n        \"dtype\": \"number\",\n        \"std\": 0.7097139264373614,\n        \"min\": 1.07,\n        \"max\": 31.8,\n        \"num_unique_values\": 361,\n        \"samples\": [\n          3.68,\n          4.22,\n          4.35\n        ],\n        \"semantic_type\": \"\",\n        \"description\": \"\"\n      }\n    }\n  ]\n}"
            }
          },
          "metadata": {},
          "execution_count": 13
        }
      ]
    },
    {
      "cell_type": "code",
      "source": [
        "data[(data['x']==0) | (data['y']==0) | (data['z']==0)]"
      ],
      "metadata": {
        "colab": {
          "base_uri": "https://localhost:8080/",
          "height": 53
        },
        "id": "e9hjMpqvSxOb",
        "outputId": "a658fac8-b90b-45ab-e3ef-2dd050794513"
      },
      "execution_count": 16,
      "outputs": [
        {
          "output_type": "execute_result",
          "data": {
            "text/plain": [
              "Empty DataFrame\n",
              "Columns: [carat, cut, color, clarity, depth, table, price, x, y, z]\n",
              "Index: []"
            ],
            "text/html": [
              "\n",
              "  <div id=\"df-d32ffce7-2cd6-4e07-9e26-7aa0371f8dee\" class=\"colab-df-container\">\n",
              "    <div>\n",
              "<style scoped>\n",
              "    .dataframe tbody tr th:only-of-type {\n",
              "        vertical-align: middle;\n",
              "    }\n",
              "\n",
              "    .dataframe tbody tr th {\n",
              "        vertical-align: top;\n",
              "    }\n",
              "\n",
              "    .dataframe thead th {\n",
              "        text-align: right;\n",
              "    }\n",
              "</style>\n",
              "<table border=\"1\" class=\"dataframe\">\n",
              "  <thead>\n",
              "    <tr style=\"text-align: right;\">\n",
              "      <th></th>\n",
              "      <th>carat</th>\n",
              "      <th>cut</th>\n",
              "      <th>color</th>\n",
              "      <th>clarity</th>\n",
              "      <th>depth</th>\n",
              "      <th>table</th>\n",
              "      <th>price</th>\n",
              "      <th>x</th>\n",
              "      <th>y</th>\n",
              "      <th>z</th>\n",
              "    </tr>\n",
              "  </thead>\n",
              "  <tbody>\n",
              "  </tbody>\n",
              "</table>\n",
              "</div>\n",
              "    <div class=\"colab-df-buttons\">\n",
              "\n",
              "  <div class=\"colab-df-container\">\n",
              "    <button class=\"colab-df-convert\" onclick=\"convertToInteractive('df-d32ffce7-2cd6-4e07-9e26-7aa0371f8dee')\"\n",
              "            title=\"Convert this dataframe to an interactive table.\"\n",
              "            style=\"display:none;\">\n",
              "\n",
              "  <svg xmlns=\"http://www.w3.org/2000/svg\" height=\"24px\" viewBox=\"0 -960 960 960\">\n",
              "    <path d=\"M120-120v-720h720v720H120Zm60-500h600v-160H180v160Zm220 220h160v-160H400v160Zm0 220h160v-160H400v160ZM180-400h160v-160H180v160Zm440 0h160v-160H620v160ZM180-180h160v-160H180v160Zm440 0h160v-160H620v160Z\"/>\n",
              "  </svg>\n",
              "    </button>\n",
              "\n",
              "  <style>\n",
              "    .colab-df-container {\n",
              "      display:flex;\n",
              "      gap: 12px;\n",
              "    }\n",
              "\n",
              "    .colab-df-convert {\n",
              "      background-color: #E8F0FE;\n",
              "      border: none;\n",
              "      border-radius: 50%;\n",
              "      cursor: pointer;\n",
              "      display: none;\n",
              "      fill: #1967D2;\n",
              "      height: 32px;\n",
              "      padding: 0 0 0 0;\n",
              "      width: 32px;\n",
              "    }\n",
              "\n",
              "    .colab-df-convert:hover {\n",
              "      background-color: #E2EBFA;\n",
              "      box-shadow: 0px 1px 2px rgba(60, 64, 67, 0.3), 0px 1px 3px 1px rgba(60, 64, 67, 0.15);\n",
              "      fill: #174EA6;\n",
              "    }\n",
              "\n",
              "    .colab-df-buttons div {\n",
              "      margin-bottom: 4px;\n",
              "    }\n",
              "\n",
              "    [theme=dark] .colab-df-convert {\n",
              "      background-color: #3B4455;\n",
              "      fill: #D2E3FC;\n",
              "    }\n",
              "\n",
              "    [theme=dark] .colab-df-convert:hover {\n",
              "      background-color: #434B5C;\n",
              "      box-shadow: 0px 1px 3px 1px rgba(0, 0, 0, 0.15);\n",
              "      filter: drop-shadow(0px 1px 2px rgba(0, 0, 0, 0.3));\n",
              "      fill: #FFFFFF;\n",
              "    }\n",
              "  </style>\n",
              "\n",
              "    <script>\n",
              "      const buttonEl =\n",
              "        document.querySelector('#df-d32ffce7-2cd6-4e07-9e26-7aa0371f8dee button.colab-df-convert');\n",
              "      buttonEl.style.display =\n",
              "        google.colab.kernel.accessAllowed ? 'block' : 'none';\n",
              "\n",
              "      async function convertToInteractive(key) {\n",
              "        const element = document.querySelector('#df-d32ffce7-2cd6-4e07-9e26-7aa0371f8dee');\n",
              "        const dataTable =\n",
              "          await google.colab.kernel.invokeFunction('convertToInteractive',\n",
              "                                                    [key], {});\n",
              "        if (!dataTable) return;\n",
              "\n",
              "        const docLinkHtml = 'Like what you see? Visit the ' +\n",
              "          '<a target=\"_blank\" href=https://colab.research.google.com/notebooks/data_table.ipynb>data table notebook</a>'\n",
              "          + ' to learn more about interactive tables.';\n",
              "        element.innerHTML = '';\n",
              "        dataTable['output_type'] = 'display_data';\n",
              "        await google.colab.output.renderOutput(dataTable, element);\n",
              "        const docLink = document.createElement('div');\n",
              "        docLink.innerHTML = docLinkHtml;\n",
              "        element.appendChild(docLink);\n",
              "      }\n",
              "    </script>\n",
              "  </div>\n",
              "\n",
              "    </div>\n",
              "  </div>\n"
            ],
            "application/vnd.google.colaboratory.intrinsic+json": {
              "type": "dataframe",
              "repr_error": "Out of range float values are not JSON compliant: nan"
            }
          },
          "metadata": {},
          "execution_count": 16
        }
      ]
    },
    {
      "cell_type": "markdown",
      "source": [
        "## Deduce new features"
      ],
      "metadata": {
        "id": "MiiDSR7tw4iY"
      }
    },
    {
      "cell_type": "code",
      "execution_count": 17,
      "metadata": {
        "colab": {
          "base_uri": "https://localhost:8080/"
        },
        "id": "SXurILKtazUo",
        "outputId": "bc56fbb4-cf51-4eb3-c2c0-8f7a21344c52"
      },
      "outputs": [
        {
          "output_type": "stream",
          "name": "stdout",
          "text": [
            "[[1.55 'Premium' 'J' ... 7.375 251.2818 34.188]\n",
            " [1.04 'Premium' 'G' ... 6.4350000000000005 165.6344 25.84]\n",
            " [1.22 'Premium' 'G' ... 6.875 200.8737 29.3675]\n",
            " ...\n",
            " [0.3 'Premium' 'D' ... 4.245 47.932668 11.3316]\n",
            " [1.5 'Ideal' 'I' ... 7.52 252.77849999999998 33.7038]\n",
            " [0.41 'Ideal' 'G' ... 4.805 68.10901000000001 14.130500000000001]]\n"
          ]
        }
      ],
      "source": [
        "from sklearn.base import TransformerMixin\n",
        "\n",
        "# column index\n",
        "x,y,z,depth = 'x','y','z','depth'\n",
        "#inhert from TransformerMixin\n",
        "# add values\n",
        "class AttributesAdder(TransformerMixin):\n",
        "\n",
        "    def __init__(self, ):\n",
        "        return\n",
        "\n",
        "    def fit(self, X, y=None):\n",
        "        return self  # nothing else to do (no need)\n",
        "\n",
        "    def transform(self, X):\n",
        "      #fixing the depth after filling zero dimensions\n",
        "        X.loc[:,depth]=(2 * X.loc[:,z])/((X.loc[:,x])+(X.loc[:,y]))*100\n",
        "        # mean of x and y\n",
        "        mean_x_y = (X.loc[:, x] + X.loc[:, y]) /2\n",
        "        # diamondSize=x*y*z\n",
        "        size=(X.loc[:,x])*(X.loc[:,y])*(X.loc[:,z])\n",
        "        # x/z\n",
        "        xdivz=(X.loc[:,x])*(X.loc[:,z])\n",
        "\n",
        "        return np.c_[X, mean_x_y, size , xdivz]\n",
        "\n",
        "attr_adder = AttributesAdder()\n",
        "\n",
        "data_extra_attribs = attr_adder.transform(data)\n",
        "print(data_extra_attribs)"
      ]
    },
    {
      "cell_type": "code",
      "execution_count": 18,
      "metadata": {
        "colab": {
          "base_uri": "https://localhost:8080/"
        },
        "id": "VPe16SxmeOfl",
        "outputId": "51352676-4aec-471b-a999-34989e8359c0"
      },
      "outputs": [
        {
          "output_type": "stream",
          "name": "stdout",
          "text": [
            "   carat      cut color clarity      depth  table  price     x     y     z  \\\n",
            "0   1.55  Premium     J     VS1  62.644068   59.0   8749  7.40  7.35  4.62   \n",
            "1   1.04  Premium     G      I1  62.160062   58.0   2801  6.46  6.41  4.00   \n",
            "2   1.22  Premium     G     VS2  61.818182   58.0   8362  6.91  6.84  4.25   \n",
            "3   0.51    Ideal     H      IF  62.561095   56.0   1920  5.10  5.13  3.20   \n",
            "4   0.41    Ideal     E     SI1  62.068966   54.0    969  4.81  4.76  2.97   \n",
            "\n",
            "   mean_x_y        size      x/z  \n",
            "0     7.375  251.281800  34.1880  \n",
            "1     6.435  165.634400  25.8400  \n",
            "2     6.875  200.873700  29.3675  \n",
            "3     5.115   83.721600  16.3200  \n",
            "4     4.785   67.999932  14.2857  \n"
          ]
        }
      ],
      "source": [
        "\n",
        "df=convertToDf(x= data_extra_attribs,columns= data.columns.tolist()+['mean_x_y','size','x/z'])\n",
        "print(df.head())"
      ]
    },
    {
      "cell_type": "code",
      "execution_count": 19,
      "metadata": {
        "colab": {
          "base_uri": "https://localhost:8080/"
        },
        "id": "icPajZI8fI4m",
        "outputId": "a5b9294c-8144-4e7d-933e-7338f8f5800a"
      },
      "outputs": [
        {
          "output_type": "stream",
          "name": "stdout",
          "text": [
            "<class 'pandas.core.frame.DataFrame'>\n",
            "RangeIndex: 34521 entries, 0 to 34520\n",
            "Data columns (total 13 columns):\n",
            " #   Column    Non-Null Count  Dtype  \n",
            "---  ------    --------------  -----  \n",
            " 0   carat     34521 non-null  float64\n",
            " 1   cut       34521 non-null  object \n",
            " 2   color     34521 non-null  object \n",
            " 3   clarity   34521 non-null  object \n",
            " 4   depth     34521 non-null  float64\n",
            " 5   table     34521 non-null  float64\n",
            " 6   price     34521 non-null  int64  \n",
            " 7   x         34521 non-null  float64\n",
            " 8   y         34521 non-null  float64\n",
            " 9   z         34521 non-null  float64\n",
            " 10  mean_x_y  34521 non-null  float64\n",
            " 11  size      34521 non-null  float64\n",
            " 12  x/z       34521 non-null  float64\n",
            "dtypes: float64(9), int64(1), object(3)\n",
            "memory usage: 3.4+ MB\n",
            "None\n"
          ]
        }
      ],
      "source": [
        "\n",
        "print(df.info())"
      ]
    },
    {
      "cell_type": "markdown",
      "source": [
        "### Correlations after adding new features"
      ],
      "metadata": {
        "id": "9ESWyUexxj4_"
      }
    },
    {
      "cell_type": "code",
      "execution_count": 20,
      "metadata": {
        "colab": {
          "base_uri": "https://localhost:8080/"
        },
        "id": "RZoALgpmFn27",
        "outputId": "c2b6b9a2-2172-4744-ef0b-a57a50a531bc"
      },
      "outputs": [
        {
          "output_type": "stream",
          "name": "stdout",
          "text": [
            "price       1.000000\n",
            "carat       0.921341\n",
            "size        0.920299\n",
            "x/z         0.904232\n",
            "x           0.886830\n",
            "mean_x_y    0.886125\n",
            "y           0.881198\n",
            "z           0.859771\n",
            "table       0.126465\n",
            "depth      -0.008971\n",
            "Name: price, dtype: float64\n"
          ]
        }
      ],
      "source": [
        "calculate_corr(df,'price')"
      ]
    },
    {
      "cell_type": "markdown",
      "source": [
        "## Encoding Categorical Features"
      ],
      "metadata": {
        "id": "hG3hTBr1xwQW"
      }
    },
    {
      "cell_type": "code",
      "execution_count": 21,
      "metadata": {
        "colab": {
          "base_uri": "https://localhost:8080/"
        },
        "id": "Gc6THLbuGUdY",
        "outputId": "1008ad9a-0fc6-4134-a1a1-44ddc73999dc"
      },
      "outputs": [
        {
          "output_type": "stream",
          "name": "stdout",
          "text": [
            "[[3. 0. 4.]\n",
            " [3. 3. 0.]\n",
            " [3. 3. 3.]\n",
            " ...\n",
            " [3. 6. 2.]\n",
            " [4. 1. 2.]\n",
            " [4. 3. 6.]]\n"
          ]
        }
      ],
      "source": [
        "from sklearn.preprocessing import OrdinalEncoder\n",
        "cut_categories=['Fair', 'Good', 'Very Good', 'Premium', 'Ideal']\n",
        "color_categories=['D','E','F','G','H','I','J']\n",
        "clarity_categories =['I1' , 'SI2', 'SI1', 'VS2', 'VS1', 'VVS2', 'VVS1', 'IF']\n",
        "\n",
        "ordinal_encoder_cut = OrdinalEncoder(categories=[\n",
        "    cut_categories,\n",
        "    color_categories[::-1],\n",
        "    clarity_categories])\n",
        "\n",
        "data_encoded = ordinal_encoder_cut.fit_transform(df[['cut','color','clarity']])\n",
        "print(data_encoded)\n",
        "\n",
        "\n",
        "\n"
      ]
    },
    {
      "cell_type": "code",
      "execution_count": 22,
      "metadata": {
        "colab": {
          "base_uri": "https://localhost:8080/"
        },
        "id": "JDW4WIfLM5kh",
        "outputId": "20dfbcdc-f86d-4b7b-c961-b9c0011e43e7"
      },
      "outputs": [
        {
          "output_type": "stream",
          "name": "stdout",
          "text": [
            "(34521, 13)\n"
          ]
        }
      ],
      "source": [
        "df['cut']=data_encoded[:,0]\n",
        "df['color']=data_encoded[:,1]\n",
        "df['clarity']=data_encoded[:,2]\n",
        "\n",
        "print(df.values.shape)\n"
      ]
    },
    {
      "cell_type": "code",
      "execution_count": 23,
      "metadata": {
        "colab": {
          "base_uri": "https://localhost:8080/"
        },
        "id": "ykbmqxQT5EIS",
        "outputId": "3b3a61b0-0d13-4834-b178-ab47d1950cf7"
      },
      "outputs": [
        {
          "output_type": "stream",
          "name": "stdout",
          "text": [
            "       carat  cut  color  clarity      depth  table  price     x     y     z  \\\n",
            "0       1.55  3.0    0.0      4.0  62.644068   59.0   8749  7.40  7.35  4.62   \n",
            "1       1.04  3.0    3.0      0.0  62.160062   58.0   2801  6.46  6.41  4.00   \n",
            "2       1.22  3.0    3.0      3.0  61.818182   58.0   8362  6.91  6.84  4.25   \n",
            "3       0.51  4.0    2.0      7.0  62.561095   56.0   1920  5.10  5.13  3.20   \n",
            "4       0.41  4.0    5.0      2.0  62.068966   54.0    969  4.81  4.76  2.97   \n",
            "...      ...  ...    ...      ...        ...    ...    ...   ...   ...   ...   \n",
            "34516   0.74  2.0    3.0      2.0  63.453111   60.0   2468  5.73  5.68  3.62   \n",
            "34517   1.04  2.0    3.0      3.0  61.882716   57.0   6177  6.46  6.50  4.01   \n",
            "34518   0.30  3.0    6.0      2.0  62.661955   60.0    709  4.26  4.23  2.66   \n",
            "34519   1.50  4.0    1.0      2.0  59.441489   60.0   8555  7.54  7.50  4.47   \n",
            "34520   0.41  4.0    3.0      6.0  61.394381   57.0   1123  4.79  4.82  2.95   \n",
            "\n",
            "       mean_x_y        size      x/z  \n",
            "0         7.375  251.281800  34.1880  \n",
            "1         6.435  165.634400  25.8400  \n",
            "2         6.875  200.873700  29.3675  \n",
            "3         5.115   83.721600  16.3200  \n",
            "4         4.785   67.999932  14.2857  \n",
            "...         ...         ...      ...  \n",
            "34516     5.705  117.817968  20.7426  \n",
            "34517     6.480  168.379900  25.9046  \n",
            "34518     4.245   47.932668  11.3316  \n",
            "34519     7.520  252.778500  33.7038  \n",
            "34520     4.805   68.109010  14.1305  \n",
            "\n",
            "[34521 rows x 13 columns]\n"
          ]
        }
      ],
      "source": [
        "print(df)"
      ]
    },
    {
      "cell_type": "markdown",
      "metadata": {
        "id": "uf249hEK5EIT"
      },
      "source": [
        "## Handling Outliers"
      ]
    },
    {
      "cell_type": "code",
      "source": [
        "samples_copy = samples.copy()"
      ],
      "metadata": {
        "id": "m3oT_w87BJca"
      },
      "execution_count": 24,
      "outputs": []
    },
    {
      "cell_type": "code",
      "execution_count": 25,
      "metadata": {
        "colab": {
          "base_uri": "https://localhost:8080/"
        },
        "id": "oT47iHqe5EIT",
        "outputId": "5d10fb3e-7cdb-48d9-8ceb-b3f983fbefed"
      },
      "outputs": [
        {
          "output_type": "stream",
          "name": "stdout",
          "text": [
            "0\n",
            "Q1 =  0.4  Q3 =  1.04  IQR =  0.64\n",
            "-----------------------------\n",
            "1\n",
            "Q1 =  61.0  Q3 =  62.5  IQR =  1.5\n",
            "-----------------------------\n",
            "2\n",
            "Q1 =  56.0  Q3 =  59.0  IQR =  3.0\n",
            "-----------------------------\n",
            "3\n",
            "Q1 =  4.71  Q3 =  6.54  IQR =  1.83\n",
            "-----------------------------\n",
            "4\n",
            "Q1 =  4.72  Q3 =  6.54  IQR =  1.8200000000000003\n",
            "-----------------------------\n",
            "5\n",
            "Q1 =  2.91  Q3 =  4.04  IQR =  1.13\n",
            "-----------------------------\n"
          ]
        }
      ],
      "source": [
        "# Remove Outlier\n",
        "\n",
        "def remove_outlier(col):\n",
        "    sorted(col)\n",
        "    Q1, Q3 = col.quantile([0.25, 0.75])\n",
        "    IQR = Q3 - Q1\n",
        "    print(\"Q1 = \", Q1, \" Q3 = \", Q3, \" IQR = \", IQR)\n",
        "    lower_range = Q1 - (1.5 * IQR)\n",
        "    upper_range = Q3 + (1.5 * IQR)\n",
        "    return lower_range, upper_range\n",
        "\n",
        "\n",
        "\n",
        "lst_num_cols =['carat','depth','table','x','y','z']\n",
        "\n",
        "\n",
        "\n",
        "indx = 0\n",
        "for col in lst_num_cols:\n",
        "    print(indx)\n",
        "    lower_range, upper_range =  remove_outlier(samples_copy[col])\n",
        "    samples_copy[col] = np.where(samples_copy[col] < lower_range, lower_range, samples_copy[col])\n",
        "    samples_copy[col] = np.where(samples_copy[col] > upper_range, upper_range, samples_copy[col])\n",
        "    indx = indx +1\n",
        "    print(\"-----------------------------\")\n"
      ]
    },
    {
      "cell_type": "code",
      "execution_count": 26,
      "metadata": {
        "colab": {
          "base_uri": "https://localhost:8080/",
          "height": 448
        },
        "id": "wr8SN2Uq5EIU",
        "outputId": "1b6bb8b8-4d6d-4429-fffc-adc0f6e5c780"
      },
      "outputs": [
        {
          "output_type": "execute_result",
          "data": {
            "text/plain": [
              "<Axes: >"
            ]
          },
          "metadata": {},
          "execution_count": 26
        },
        {
          "output_type": "display_data",
          "data": {
            "text/plain": [
              "<Figure size 640x480 with 1 Axes>"
            ],
            "image/png": "[encoded data removed]"
          },
          "metadata": {}
        }
      ],
      "source": [
        "sns.boxplot(samples_copy)"
      ]
    },
    {
      "cell_type": "markdown",
      "metadata": {
        "id": "2W3s7kgo5EIU"
      },
      "source": [
        "## Pipeline"
      ]
    },
    {
      "cell_type": "markdown",
      "source": [
        "## Numerical Pipeline\n",
        "\n",
        "\n",
        "*   deducing new feature\n",
        "*   scaling the values\n"
      ],
      "metadata": {
        "id": "MOMC7OpOAgs5"
      }
    },
    {
      "cell_type": "code",
      "execution_count": 27,
      "metadata": {
        "id": "2lTilmmkOs1p"
      },
      "outputs": [],
      "source": [
        "from sklearn.pipeline import Pipeline\n",
        "from sklearn.preprocessing import StandardScaler\n",
        "\n",
        "num_pipeline = Pipeline([\n",
        "        ('attribs_adder', AttributesAdder()),\n",
        "        ('std_scaler', StandardScaler()),\n",
        "    ])\n",
        "\n"
      ]
    },
    {
      "cell_type": "markdown",
      "source": [
        "### First Column Transformer\n",
        "numerical pipeline + ordinal encoder pipeline"
      ],
      "metadata": {
        "id": "Gpq6WRBgApGn"
      }
    },
    {
      "cell_type": "code",
      "execution_count": 28,
      "metadata": {
        "colab": {
          "base_uri": "https://localhost:8080/"
        },
        "id": "I5entOk5QOXI",
        "outputId": "a7331441-e7db-422b-f546-a316f90fcfd4"
      },
      "outputs": [
        {
          "output_type": "stream",
          "name": "stdout",
          "text": [
            "prepared\n",
            "[[7.4  7.35 4.62 ... 3.   0.   4.  ]\n",
            " [6.46 6.41 4.   ... 3.   3.   0.  ]\n",
            " [6.91 6.84 4.25 ... 3.   3.   3.  ]\n",
            " ...\n",
            " [4.26 4.23 2.66 ... 3.   6.   2.  ]\n",
            " [7.54 7.5  4.47 ... 4.   1.   2.  ]\n",
            " [4.79 4.82 2.95 ... 4.   3.   6.  ]]\n",
            "labels\n",
            "21805    8749\n",
            "22939    2801\n",
            "33888    8362\n",
            "35779    1920\n",
            "20589     969\n",
            "         ... \n",
            "6265     2468\n",
            "11284    6177\n",
            "38158     709\n",
            "860      8555\n",
            "15795    1123\n",
            "Name: price, Length: 34521, dtype: int64\n"
          ]
        }
      ],
      "source": [
        "from sklearn.compose import ColumnTransformer\n",
        "\n",
        "#droping the id column\n",
        "samples_copy.drop('Id',inplace=True,errors='ignore',axis=1)\n",
        "\n",
        "\n",
        "# getting numerical columns\n",
        "number_attribs = list(samples_copy.select_dtypes(exclude=['object']).columns)\n",
        "# getting categorical columns\n",
        "categories_attribs = samples_copy.select_dtypes(include=['object']).columns\n",
        "\n",
        "full_pipeline = ColumnTransformer([\n",
        "        (\"imputer\", SimpleImputer(missing_values=0,strategy=\"median\"), ['x','y','z']),\n",
        "        (\"numbers\", num_pipeline, number_attribs),\n",
        "        (\"categories\", ordinal_encoder_cut, categories_attribs),\n",
        "    ])\n",
        "\n",
        "data_prepared = full_pipeline.fit_transform(samples_copy)\n",
        "data_labels=labels\n",
        "print('prepared')\n",
        "print(data_prepared)\n",
        "print('labels')\n",
        "print(labels)"
      ]
    },
    {
      "cell_type": "markdown",
      "source": [
        "### Second Column Transformer\n",
        "numerical pipeline + one hot encoder pipeline"
      ],
      "metadata": {
        "id": "kOQ8FoVKA37d"
      }
    },
    {
      "cell_type": "code",
      "execution_count": 29,
      "metadata": {
        "id": "uQACOChz5EIV",
        "outputId": "341232d4-1f00-4c8f-ca4d-fcb892a477a1",
        "colab": {
          "base_uri": "https://localhost:8080/"
        }
      },
      "outputs": [
        {
          "output_type": "stream",
          "name": "stdout",
          "text": [
            "       carat        cut color clarity  depth  table     x     y     z\n",
            "21805   1.55    Premium     J     VS1   62.6   59.0  7.40  7.35  4.62\n",
            "22939   1.04    Premium     G      I1   62.2   58.0  6.46  6.41  4.00\n",
            "33888   1.22    Premium     G     VS2   61.8   58.0  6.91  6.84  4.25\n",
            "35779   0.51      Ideal     H      IF   62.6   56.0  5.10  5.13  3.20\n",
            "20589   0.41      Ideal     E     SI1   62.1   54.0  4.81  4.76  2.97\n",
            "...      ...        ...   ...     ...    ...    ...   ...   ...   ...\n",
            "6265    0.74  Very Good     G     SI1   63.5   60.0  5.73  5.68  3.62\n",
            "11284   1.04  Very Good     G     VS2   61.9   57.0  6.46  6.50  4.01\n",
            "38158   0.30    Premium     D     SI1   62.7   60.0  4.26  4.23  2.66\n",
            "860     1.50      Ideal     I     SI1   59.4   60.0  7.54  7.50  4.47\n",
            "15795   0.41      Ideal     G    VVS1   61.5   57.0  4.79  4.82  2.95\n",
            "\n",
            "[34521 rows x 9 columns]\n",
            "prepared\n",
            "[[ 1.58280818  0.25451832  0.68743802 ...  0.          0.\n",
            "   0.        ]\n",
            " [ 0.50964878  0.11719394  0.23918171 ...  0.          0.\n",
            "   0.        ]\n",
            " [ 0.88841092  0.02019402  0.23918171 ...  1.          0.\n",
            "   0.        ]\n",
            " ...\n",
            " [-1.04748446  0.25959343  1.13569433 ...  0.          0.\n",
            "   0.        ]\n",
            " [ 1.47759647 -0.65413246  1.13569433 ...  0.          0.\n",
            "   0.        ]\n",
            " [-0.81601871 -0.1000488  -0.20907461 ...  0.          1.\n",
            "   0.        ]]\n",
            "labels\n",
            "21805    8749\n",
            "22939    2801\n",
            "33888    8362\n",
            "35779    1920\n",
            "20589     969\n",
            "         ... \n",
            "6265     2468\n",
            "11284    6177\n",
            "38158     709\n",
            "860      8555\n",
            "15795    1123\n",
            "Name: price, Length: 34521, dtype: int64\n"
          ]
        }
      ],
      "source": [
        "from sklearn.preprocessing import OneHotEncoder\n",
        "samples.drop('Id',inplace=True,errors='ignore',axis=1)\n",
        "print(samples)\n",
        "full_pipeline2 = ColumnTransformer([\n",
        "        (\"numbers\", num_pipeline, number_attribs),\n",
        "        (\"categories\", OneHotEncoder(), categories_attribs),\n",
        "    ])\n",
        "\n",
        "data_prepared2= full_pipeline2.fit_transform(samples)\n",
        "data_labels2=labels\n",
        "print('prepared')\n",
        "print(data_prepared2)\n",
        "print('labels')\n",
        "print(data_labels2)"
      ]
    },
    {
      "cell_type": "markdown",
      "metadata": {
        "id": "4V1DnYt7OawA"
      },
      "source": [
        "# Training"
      ]
    },
    {
      "cell_type": "code",
      "execution_count": 30,
      "metadata": {
        "id": "WcWKgMUAvQzX"
      },
      "outputs": [],
      "source": [
        "def display_scores(scores):\n",
        "    print(\"Scores:\", scores)\n",
        "    print(\"Mean:\", scores.mean())\n",
        "    print(\"Standard deviation:\", scores.std())\n",
        "    return  scores.mean()"
      ]
    },
    {
      "cell_type": "markdown",
      "metadata": {
        "id": "A0g4kIF_trVi"
      },
      "source": [
        "## Linear Regression"
      ]
    },
    {
      "cell_type": "code",
      "execution_count": 35,
      "metadata": {
        "colab": {
          "base_uri": "https://localhost:8080/",
          "height": 74
        },
        "id": "lo2pDCMZOeSn",
        "outputId": "e7c67523-def0-47e2-8cee-b2a6acf41a1b"
      },
      "outputs": [
        {
          "output_type": "execute_result",
          "data": {
            "text/plain": [
              "LinearRegression()"
            ],
            "text/html": [
              "<style>#sk-container-id-1 {color: black;background-color: white;}#sk-container-id-1 pre{padding: 0;}#sk-container-id-1 div.sk-toggleable {background-color: white;}#sk-container-id-1 label.sk-toggleable__label {cursor: pointer;display: block;width: 100%;margin-bottom: 0;padding: 0.3em;box-sizing: border-box;text-align: center;}#sk-container-id-1 label.sk-toggleable__label-arrow:before {content: \"▸\";float: left;margin-right: 0.25em;color: #696969;}#sk-container-id-1 label.sk-toggleable__label-arrow:hover:before {color: black;}#sk-container-id-1 div.sk-estimator:hover label.sk-toggleable__label-arrow:before {color: black;}#sk-container-id-1 div.sk-toggleable__content {max-height: 0;max-width: 0;overflow: hidden;text-align: left;background-color: #f0f8ff;}#sk-container-id-1 div.sk-toggleable__content pre {margin: 0.2em;color: black;border-radius: 0.25em;background-color: #f0f8ff;}#sk-container-id-1 input.sk-toggleable__control:checked~div.sk-toggleable__content {max-height: 200px;max-width: 100%;overflow: auto;}#sk-container-id-1 input.sk-toggleable__control:checked~label.sk-toggleable__label-arrow:before {content: \"▾\";}#sk-container-id-1 div.sk-estimator input.sk-toggleable__control:checked~label.sk-toggleable__label {background-color: #d4ebff;}#sk-container-id-1 div.sk-label input.sk-toggleable__control:checked~label.sk-toggleable__label {background-color: #d4ebff;}#sk-container-id-1 input.sk-hidden--visually {border: 0;clip: rect(1px 1px 1px 1px);clip: rect(1px, 1px, 1px, 1px);height: 1px;margin: -1px;overflow: hidden;padding: 0;position: absolute;width: 1px;}#sk-container-id-1 div.sk-estimator {font-family: monospace;background-color: #f0f8ff;border: 1px dotted black;border-radius: 0.25em;box-sizing: border-box;margin-bottom: 0.5em;}#sk-container-id-1 div.sk-estimator:hover {background-color: #d4ebff;}#sk-container-id-1 div.sk-parallel-item::after {content: \"\";width: 100%;border-bottom: 1px solid gray;flex-grow: 1;}#sk-container-id-1 div.sk-label:hover label.sk-toggleable__label {background-color: #d4ebff;}#sk-container-id-1 div.sk-serial::before {content: \"\";position: absolute;border-left: 1px solid gray;box-sizing: border-box;top: 0;bottom: 0;left: 50%;z-index: 0;}#sk-container-id-1 div.sk-serial {display: flex;flex-direction: column;align-items: center;background-color: white;padding-right: 0.2em;padding-left: 0.2em;position: relative;}#sk-container-id-1 div.sk-item {position: relative;z-index: 1;}#sk-container-id-1 div.sk-parallel {display: flex;align-items: stretch;justify-content: center;background-color: white;position: relative;}#sk-container-id-1 div.sk-item::before, #sk-container-id-1 div.sk-parallel-item::before {content: \"\";position: absolute;border-left: 1px solid gray;box-sizing: border-box;top: 0;bottom: 0;left: 50%;z-index: -1;}#sk-container-id-1 div.sk-parallel-item {display: flex;flex-direction: column;z-index: 1;position: relative;background-color: white;}#sk-container-id-1 div.sk-parallel-item:first-child::after {align-self: flex-end;width: 50%;}#sk-container-id-1 div.sk-parallel-item:last-child::after {align-self: flex-start;width: 50%;}#sk-container-id-1 div.sk-parallel-item:only-child::after {width: 0;}#sk-container-id-1 div.sk-dashed-wrapped {border: 1px dashed gray;margin: 0 0.4em 0.5em 0.4em;box-sizing: border-box;padding-bottom: 0.4em;background-color: white;}#sk-container-id-1 div.sk-label label {font-family: monospace;font-weight: bold;display: inline-block;line-height: 1.2em;}#sk-container-id-1 div.sk-label-container {text-align: center;}#sk-container-id-1 div.sk-container {/* jupyter's `normalize.less` sets `[hidden] { display: none; }` but bootstrap.min.css set `[hidden] { display: none !important; }` so we also need the `!important` here to be able to override the default hidden behavior on the sphinx rendered scikit-learn.org. See: https://github.com/scikit-learn/scikit-learn/issues/21755 */display: inline-block !important;position: relative;}#sk-container-id-1 div.sk-text-repr-fallback {display: none;}</style><div id=\"sk-container-id-1\" class=\"sk-top-container\"><div class=\"sk-text-repr-fallback\"><pre>LinearRegression()</pre><b>In a Jupyter environment, please rerun this cell to show the HTML representation or trust the notebook. <br />On GitHub, the HTML representation is unable to render, please try loading this page with nbviewer.org.</b></div><div class=\"sk-container\" hidden><div class=\"sk-item\"><div class=\"sk-estimator sk-toggleable\"><input class=\"sk-toggleable__control sk-hidden--visually\" id=\"sk-estimator-id-1\" type=\"checkbox\" checked><label for=\"sk-estimator-id-1\" class=\"sk-toggleable__label sk-toggleable__label-arrow\">LinearRegression</label><div class=\"sk-toggleable__content\"><pre>LinearRegression()</pre></div></div></div></div></div>"
            ]
          },
          "metadata": {},
          "execution_count": 35
        }
      ],
      "source": [
        "from sklearn.linear_model import LinearRegression\n",
        "\n",
        "lin_reg = LinearRegression()\n",
        "lin_reg.fit(data_prepared, data_labels)"
      ]
    },
    {
      "cell_type": "code",
      "execution_count": 36,
      "metadata": {
        "colab": {
          "base_uri": "https://localhost:8080/"
        },
        "id": "u7F1OoURuM1u",
        "outputId": "14c4619f-efdb-443a-eabf-f53408621d5f"
      },
      "outputs": [
        {
          "output_type": "execute_result",
          "data": {
            "text/plain": [
              "1125.349199818635"
            ]
          },
          "metadata": {},
          "execution_count": 36
        }
      ],
      "source": [
        "\n",
        "from sklearn.metrics import mean_squared_error\n",
        "data_predictions_lg = lin_reg.predict(data_prepared)\n",
        "\n",
        "lin_rmse =np.sqrt( mean_squared_error(data_labels, data_predictions_lg, ))\n",
        "lin_rmse"
      ]
    },
    {
      "cell_type": "code",
      "execution_count": 37,
      "metadata": {
        "colab": {
          "base_uri": "https://localhost:8080/"
        },
        "id": "ZFwI_SFyuwm1",
        "outputId": "4ca419bf-1129-4663-d667-ff622a5cfc80"
      },
      "outputs": [
        {
          "output_type": "stream",
          "name": "stdout",
          "text": [
            "Scores: [1095.11549481 1180.20704803 1120.96289717 1108.48585362 1130.86197423\n",
            " 1093.76377914 1148.15569458 1124.18215385 1157.17151894 1102.72350575]\n",
            "Mean: 1126.1629920132293\n",
            "Standard deviation: 27.00844248560068\n"
          ]
        }
      ],
      "source": [
        "from sklearn.model_selection import cross_val_score\n",
        "scores = cross_val_score(lin_reg, data_prepared, data_labels,\n",
        "                         scoring=\"neg_mean_squared_error\", cv=10)\n",
        "\n",
        "lr_rmse_scores = np.sqrt(-scores)\n",
        "linear_score=display_scores(lr_rmse_scores)"
      ]
    },
    {
      "cell_type": "markdown",
      "metadata": {
        "id": "kRA5Y9y-vj1n"
      },
      "source": [
        "## Decision Trees"
      ]
    },
    {
      "cell_type": "code",
      "execution_count": 38,
      "metadata": {
        "colab": {
          "base_uri": "https://localhost:8080/",
          "height": 74
        },
        "id": "qIb-Bw-cvtO7",
        "outputId": "e9e1068a-9e7e-4a52-c468-bb9fb618c33d"
      },
      "outputs": [
        {
          "output_type": "execute_result",
          "data": {
            "text/plain": [
              "DecisionTreeRegressor()"
            ],
            "text/html": [
              "<style>#sk-container-id-2 {color: black;background-color: white;}#sk-container-id-2 pre{padding: 0;}#sk-container-id-2 div.sk-toggleable {background-color: white;}#sk-container-id-2 label.sk-toggleable__label {cursor: pointer;display: block;width: 100%;margin-bottom: 0;padding: 0.3em;box-sizing: border-box;text-align: center;}#sk-container-id-2 label.sk-toggleable__label-arrow:before {content: \"▸\";float: left;margin-right: 0.25em;color: #696969;}#sk-container-id-2 label.sk-toggleable__label-arrow:hover:before {color: black;}#sk-container-id-2 div.sk-estimator:hover label.sk-toggleable__label-arrow:before {color: black;}#sk-container-id-2 div.sk-toggleable__content {max-height: 0;max-width: 0;overflow: hidden;text-align: left;background-color: #f0f8ff;}#sk-container-id-2 div.sk-toggleable__content pre {margin: 0.2em;color: black;border-radius: 0.25em;background-color: #f0f8ff;}#sk-container-id-2 input.sk-toggleable__control:checked~div.sk-toggleable__content {max-height: 200px;max-width: 100%;overflow: auto;}#sk-container-id-2 input.sk-toggleable__control:checked~label.sk-toggleable__label-arrow:before {content: \"▾\";}#sk-container-id-2 div.sk-estimator input.sk-toggleable__control:checked~label.sk-toggleable__label {background-color: #d4ebff;}#sk-container-id-2 div.sk-label input.sk-toggleable__control:checked~label.sk-toggleable__label {background-color: #d4ebff;}#sk-container-id-2 input.sk-hidden--visually {border: 0;clip: rect(1px 1px 1px 1px);clip: rect(1px, 1px, 1px, 1px);height: 1px;margin: -1px;overflow: hidden;padding: 0;position: absolute;width: 1px;}#sk-container-id-2 div.sk-estimator {font-family: monospace;background-color: #f0f8ff;border: 1px dotted black;border-radius: 0.25em;box-sizing: border-box;margin-bottom: 0.5em;}#sk-container-id-2 div.sk-estimator:hover {background-color: #d4ebff;}#sk-container-id-2 div.sk-parallel-item::after {content: \"\";width: 100%;border-bottom: 1px solid gray;flex-grow: 1;}#sk-container-id-2 div.sk-label:hover label.sk-toggleable__label {background-color: #d4ebff;}#sk-container-id-2 div.sk-serial::before {content: \"\";position: absolute;border-left: 1px solid gray;box-sizing: border-box;top: 0;bottom: 0;left: 50%;z-index: 0;}#sk-container-id-2 div.sk-serial {display: flex;flex-direction: column;align-items: center;background-color: white;padding-right: 0.2em;padding-left: 0.2em;position: relative;}#sk-container-id-2 div.sk-item {position: relative;z-index: 1;}#sk-container-id-2 div.sk-parallel {display: flex;align-items: stretch;justify-content: center;background-color: white;position: relative;}#sk-container-id-2 div.sk-item::before, #sk-container-id-2 div.sk-parallel-item::before {content: \"\";position: absolute;border-left: 1px solid gray;box-sizing: border-box;top: 0;bottom: 0;left: 50%;z-index: -1;}#sk-container-id-2 div.sk-parallel-item {display: flex;flex-direction: column;z-index: 1;position: relative;background-color: white;}#sk-container-id-2 div.sk-parallel-item:first-child::after {align-self: flex-end;width: 50%;}#sk-container-id-2 div.sk-parallel-item:last-child::after {align-self: flex-start;width: 50%;}#sk-container-id-2 div.sk-parallel-item:only-child::after {width: 0;}#sk-container-id-2 div.sk-dashed-wrapped {border: 1px dashed gray;margin: 0 0.4em 0.5em 0.4em;box-sizing: border-box;padding-bottom: 0.4em;background-color: white;}#sk-container-id-2 div.sk-label label {font-family: monospace;font-weight: bold;display: inline-block;line-height: 1.2em;}#sk-container-id-2 div.sk-label-container {text-align: center;}#sk-container-id-2 div.sk-container {/* jupyter's `normalize.less` sets `[hidden] { display: none; }` but bootstrap.min.css set `[hidden] { display: none !important; }` so we also need the `!important` here to be able to override the default hidden behavior on the sphinx rendered scikit-learn.org. See: https://github.com/scikit-learn/scikit-learn/issues/21755 */display: inline-block !important;position: relative;}#sk-container-id-2 div.sk-text-repr-fallback {display: none;}</style><div id=\"sk-container-id-2\" class=\"sk-top-container\"><div class=\"sk-text-repr-fallback\"><pre>DecisionTreeRegressor()</pre><b>In a Jupyter environment, please rerun this cell to show the HTML representation or trust the notebook. <br />On GitHub, the HTML representation is unable to render, please try loading this page with nbviewer.org.</b></div><div class=\"sk-container\" hidden><div class=\"sk-item\"><div class=\"sk-estimator sk-toggleable\"><input class=\"sk-toggleable__control sk-hidden--visually\" id=\"sk-estimator-id-2\" type=\"checkbox\" checked><label for=\"sk-estimator-id-2\" class=\"sk-toggleable__label sk-toggleable__label-arrow\">DecisionTreeRegressor</label><div class=\"sk-toggleable__content\"><pre>DecisionTreeRegressor()</pre></div></div></div></div></div>"
            ]
          },
          "metadata": {},
          "execution_count": 38
        }
      ],
      "source": [
        "from sklearn.tree import DecisionTreeRegressor\n",
        "\n",
        "tree_reg = DecisionTreeRegressor()\n",
        "tree_reg.fit(data_prepared, data_labels)"
      ]
    },
    {
      "cell_type": "code",
      "execution_count": 39,
      "metadata": {
        "colab": {
          "base_uri": "https://localhost:8080/"
        },
        "id": "dIwtOhX1wKUv",
        "outputId": "f1101322-862e-4781-aa40-359c1fb108d9"
      },
      "outputs": [
        {
          "output_type": "execute_result",
          "data": {
            "text/plain": [
              "8.505619472114011"
            ]
          },
          "metadata": {},
          "execution_count": 39
        }
      ],
      "source": [
        "from sklearn.metrics import mean_squared_error\n",
        "data_predictions_dt = tree_reg.predict(data_prepared)\n",
        "\n",
        "dt_rmse = np.sqrt( mean_squared_error(data_labels, data_predictions_dt, ))\n",
        "dt_rmse"
      ]
    },
    {
      "cell_type": "code",
      "execution_count": 42,
      "metadata": {
        "colab": {
          "base_uri": "https://localhost:8080/"
        },
        "id": "xp2mR3GXwlnZ",
        "outputId": "b3a110e2-770c-4ea8-d644-9f9698cc7012"
      },
      "outputs": [
        {
          "output_type": "stream",
          "name": "stdout",
          "text": [
            "Scores: [796.01930645 770.14333293 768.78358936 756.46579293 749.3987089\n",
            " 738.24549218 750.26268893 751.78038975 766.01044057 705.7698065 ]\n",
            "Mean: 755.2879548506767\n",
            "Standard deviation: 22.34490656192078\n"
          ]
        }
      ],
      "source": [
        "from sklearn.model_selection import cross_val_score\n",
        "scores = cross_val_score(tree_reg, data_prepared, data_labels,\n",
        "                         scoring=\"neg_mean_squared_error\", cv=10)\n",
        "\n",
        "dt_rmse_scores = np.sqrt(-scores)\n",
        "decision_tree_score=display_scores(dt_rmse_scores)"
      ]
    },
    {
      "cell_type": "markdown",
      "metadata": {
        "id": "eKHcbIufwySh"
      },
      "source": [
        "## RandomForestRegressor"
      ]
    },
    {
      "cell_type": "code",
      "execution_count": 31,
      "metadata": {
        "colab": {
          "base_uri": "https://localhost:8080/",
          "height": 74
        },
        "id": "g5h11iMrw3Qn",
        "outputId": "fb402879-d327-4704-9720-7f0cfda040ed"
      },
      "outputs": [
        {
          "output_type": "execute_result",
          "data": {
            "text/plain": [
              "RandomForestRegressor(random_state=42)"
            ],
            "text/html": [
              "<style>#sk-container-id-1 {color: black;background-color: white;}#sk-container-id-1 pre{padding: 0;}#sk-container-id-1 div.sk-toggleable {background-color: white;}#sk-container-id-1 label.sk-toggleable__label {cursor: pointer;display: block;width: 100%;margin-bottom: 0;padding: 0.3em;box-sizing: border-box;text-align: center;}#sk-container-id-1 label.sk-toggleable__label-arrow:before {content: \"▸\";float: left;margin-right: 0.25em;color: #696969;}#sk-container-id-1 label.sk-toggleable__label-arrow:hover:before {color: black;}#sk-container-id-1 div.sk-estimator:hover label.sk-toggleable__label-arrow:before {color: black;}#sk-container-id-1 div.sk-toggleable__content {max-height: 0;max-width: 0;overflow: hidden;text-align: left;background-color: #f0f8ff;}#sk-container-id-1 div.sk-toggleable__content pre {margin: 0.2em;color: black;border-radius: 0.25em;background-color: #f0f8ff;}#sk-container-id-1 input.sk-toggleable__control:checked~div.sk-toggleable__content {max-height: 200px;max-width: 100%;overflow: auto;}#sk-container-id-1 input.sk-toggleable__control:checked~label.sk-toggleable__label-arrow:before {content: \"▾\";}#sk-container-id-1 div.sk-estimator input.sk-toggleable__control:checked~label.sk-toggleable__label {background-color: #d4ebff;}#sk-container-id-1 div.sk-label input.sk-toggleable__control:checked~label.sk-toggleable__label {background-color: #d4ebff;}#sk-container-id-1 input.sk-hidden--visually {border: 0;clip: rect(1px 1px 1px 1px);clip: rect(1px, 1px, 1px, 1px);height: 1px;margin: -1px;overflow: hidden;padding: 0;position: absolute;width: 1px;}#sk-container-id-1 div.sk-estimator {font-family: monospace;background-color: #f0f8ff;border: 1px dotted black;border-radius: 0.25em;box-sizing: border-box;margin-bottom: 0.5em;}#sk-container-id-1 div.sk-estimator:hover {background-color: #d4ebff;}#sk-container-id-1 div.sk-parallel-item::after {content: \"\";width: 100%;border-bottom: 1px solid gray;flex-grow: 1;}#sk-container-id-1 div.sk-label:hover label.sk-toggleable__label {background-color: #d4ebff;}#sk-container-id-1 div.sk-serial::before {content: \"\";position: absolute;border-left: 1px solid gray;box-sizing: border-box;top: 0;bottom: 0;left: 50%;z-index: 0;}#sk-container-id-1 div.sk-serial {display: flex;flex-direction: column;align-items: center;background-color: white;padding-right: 0.2em;padding-left: 0.2em;position: relative;}#sk-container-id-1 div.sk-item {position: relative;z-index: 1;}#sk-container-id-1 div.sk-parallel {display: flex;align-items: stretch;justify-content: center;background-color: white;position: relative;}#sk-container-id-1 div.sk-item::before, #sk-container-id-1 div.sk-parallel-item::before {content: \"\";position: absolute;border-left: 1px solid gray;box-sizing: border-box;top: 0;bottom: 0;left: 50%;z-index: -1;}#sk-container-id-1 div.sk-parallel-item {display: flex;flex-direction: column;z-index: 1;position: relative;background-color: white;}#sk-container-id-1 div.sk-parallel-item:first-child::after {align-self: flex-end;width: 50%;}#sk-container-id-1 div.sk-parallel-item:last-child::after {align-self: flex-start;width: 50%;}#sk-container-id-1 div.sk-parallel-item:only-child::after {width: 0;}#sk-container-id-1 div.sk-dashed-wrapped {border: 1px dashed gray;margin: 0 0.4em 0.5em 0.4em;box-sizing: border-box;padding-bottom: 0.4em;background-color: white;}#sk-container-id-1 div.sk-label label {font-family: monospace;font-weight: bold;display: inline-block;line-height: 1.2em;}#sk-container-id-1 div.sk-label-container {text-align: center;}#sk-container-id-1 div.sk-container {/* jupyter's `normalize.less` sets `[hidden] { display: none; }` but bootstrap.min.css set `[hidden] { display: none !important; }` so we also need the `!important` here to be able to override the default hidden behavior on the sphinx rendered scikit-learn.org. See: https://github.com/scikit-learn/scikit-learn/issues/21755 */display: inline-block !important;position: relative;}#sk-container-id-1 div.sk-text-repr-fallback {display: none;}</style><div id=\"sk-container-id-1\" class=\"sk-top-container\"><div class=\"sk-text-repr-fallback\"><pre>RandomForestRegressor(random_state=42)</pre><b>In a Jupyter environment, please rerun this cell to show the HTML representation or trust the notebook. <br />On GitHub, the HTML representation is unable to render, please try loading this page with nbviewer.org.</b></div><div class=\"sk-container\" hidden><div class=\"sk-item\"><div class=\"sk-estimator sk-toggleable\"><input class=\"sk-toggleable__control sk-hidden--visually\" id=\"sk-estimator-id-1\" type=\"checkbox\" checked><label for=\"sk-estimator-id-1\" class=\"sk-toggleable__label sk-toggleable__label-arrow\">RandomForestRegressor</label><div class=\"sk-toggleable__content\"><pre>RandomForestRegressor(random_state=42)</pre></div></div></div></div></div>"
            ]
          },
          "metadata": {},
          "execution_count": 31
        }
      ],
      "source": [
        "from sklearn.ensemble import RandomForestRegressor\n",
        "\n",
        "forest_reg = RandomForestRegressor(n_estimators=100, random_state=42)\n",
        "forest_reg.fit(data_prepared, data_labels)"
      ]
    },
    {
      "cell_type": "code",
      "execution_count": 32,
      "metadata": {
        "colab": {
          "base_uri": "https://localhost:8080/"
        },
        "id": "Tsz1ePM6w_WV",
        "outputId": "2c728f96-160a-4dad-c049-25c11c1907ce"
      },
      "outputs": [
        {
          "output_type": "execute_result",
          "data": {
            "text/plain": [
              "208.43103855214898"
            ]
          },
          "metadata": {},
          "execution_count": 32
        }
      ],
      "source": [
        "from sklearn.metrics import mean_squared_error\n",
        "\n",
        "data_predictions_fr = forest_reg.predict(data_prepared)\n",
        "fr_rmse =np.sqrt( mean_squared_error(data_labels, data_predictions_fr, ))\n",
        "fr_rmse"
      ]
    },
    {
      "cell_type": "code",
      "execution_count": 33,
      "metadata": {
        "colab": {
          "base_uri": "https://localhost:8080/"
        },
        "id": "fUte-Kn9xVlt",
        "outputId": "a1c697f8-2d9b-406d-988e-c4c7cb59e336"
      },
      "outputs": [
        {
          "output_type": "stream",
          "name": "stdout",
          "text": [
            "Scores: [598.76886516 551.03328613 572.2091543  573.26940899 541.81631835\n",
            " 542.51128083 569.17195036 587.98782243 609.90805616 516.79376754]\n",
            "Mean: 566.3469910261376\n",
            "Standard deviation: 27.142699984031402\n"
          ]
        }
      ],
      "source": [
        "from sklearn.model_selection import cross_val_score\n",
        "scores = cross_val_score(forest_reg, data_prepared, data_labels,\n",
        "                         scoring=\"neg_mean_squared_error\", cv=10)\n",
        "\n",
        "fr_rmse_scores = np.sqrt(-scores)\n",
        "random_forest_score=display_scores(fr_rmse_scores)"
      ]
    },
    {
      "cell_type": "code",
      "execution_count": 46,
      "metadata": {
        "colab": {
          "base_uri": "https://localhost:8080/"
        },
        "id": "36rVsV6U5EIb",
        "outputId": "9b863e63-83fc-4668-fc48-fa33892ce624"
      },
      "outputs": [
        {
          "output_type": "stream",
          "name": "stdout",
          "text": [
            "0.9972822005374153\n"
          ]
        }
      ],
      "source": [
        "from sklearn.metrics import r2_score\n",
        "r2 = r2_score(data_labels, data_predictions_fr)\n",
        "print(r2)"
      ]
    },
    {
      "cell_type": "markdown",
      "metadata": {
        "id": "vPpe4mqH5EIb"
      },
      "source": [
        "## Polynomial Regression"
      ]
    },
    {
      "cell_type": "code",
      "execution_count": 47,
      "metadata": {
        "id": "xCk3rRQF5EIb",
        "outputId": "a4720a6f-835c-4042-cd5f-be5b7c3eae39",
        "colab": {
          "base_uri": "https://localhost:8080/",
          "height": 74
        }
      },
      "outputs": [
        {
          "output_type": "execute_result",
          "data": {
            "text/plain": [
              "LinearRegression()"
            ],
            "text/html": [
              "<style>#sk-container-id-4 {color: black;background-color: white;}#sk-container-id-4 pre{padding: 0;}#sk-container-id-4 div.sk-toggleable {background-color: white;}#sk-container-id-4 label.sk-toggleable__label {cursor: pointer;display: block;width: 100%;margin-bottom: 0;padding: 0.3em;box-sizing: border-box;text-align: center;}#sk-container-id-4 label.sk-toggleable__label-arrow:before {content: \"▸\";float: left;margin-right: 0.25em;color: #696969;}#sk-container-id-4 label.sk-toggleable__label-arrow:hover:before {color: black;}#sk-container-id-4 div.sk-estimator:hover label.sk-toggleable__label-arrow:before {color: black;}#sk-container-id-4 div.sk-toggleable__content {max-height: 0;max-width: 0;overflow: hidden;text-align: left;background-color: #f0f8ff;}#sk-container-id-4 div.sk-toggleable__content pre {margin: 0.2em;color: black;border-radius: 0.25em;background-color: #f0f8ff;}#sk-container-id-4 input.sk-toggleable__control:checked~div.sk-toggleable__content {max-height: 200px;max-width: 100%;overflow: auto;}#sk-container-id-4 input.sk-toggleable__control:checked~label.sk-toggleable__label-arrow:before {content: \"▾\";}#sk-container-id-4 div.sk-estimator input.sk-toggleable__control:checked~label.sk-toggleable__label {background-color: #d4ebff;}#sk-container-id-4 div.sk-label input.sk-toggleable__control:checked~label.sk-toggleable__label {background-color: #d4ebff;}#sk-container-id-4 input.sk-hidden--visually {border: 0;clip: rect(1px 1px 1px 1px);clip: rect(1px, 1px, 1px, 1px);height: 1px;margin: -1px;overflow: hidden;padding: 0;position: absolute;width: 1px;}#sk-container-id-4 div.sk-estimator {font-family: monospace;background-color: #f0f8ff;border: 1px dotted black;border-radius: 0.25em;box-sizing: border-box;margin-bottom: 0.5em;}#sk-container-id-4 div.sk-estimator:hover {background-color: #d4ebff;}#sk-container-id-4 div.sk-parallel-item::after {content: \"\";width: 100%;border-bottom: 1px solid gray;flex-grow: 1;}#sk-container-id-4 div.sk-label:hover label.sk-toggleable__label {background-color: #d4ebff;}#sk-container-id-4 div.sk-serial::before {content: \"\";position: absolute;border-left: 1px solid gray;box-sizing: border-box;top: 0;bottom: 0;left: 50%;z-index: 0;}#sk-container-id-4 div.sk-serial {display: flex;flex-direction: column;align-items: center;background-color: white;padding-right: 0.2em;padding-left: 0.2em;position: relative;}#sk-container-id-4 div.sk-item {position: relative;z-index: 1;}#sk-container-id-4 div.sk-parallel {display: flex;align-items: stretch;justify-content: center;background-color: white;position: relative;}#sk-container-id-4 div.sk-item::before, #sk-container-id-4 div.sk-parallel-item::before {content: \"\";position: absolute;border-left: 1px solid gray;box-sizing: border-box;top: 0;bottom: 0;left: 50%;z-index: -1;}#sk-container-id-4 div.sk-parallel-item {display: flex;flex-direction: column;z-index: 1;position: relative;background-color: white;}#sk-container-id-4 div.sk-parallel-item:first-child::after {align-self: flex-end;width: 50%;}#sk-container-id-4 div.sk-parallel-item:last-child::after {align-self: flex-start;width: 50%;}#sk-container-id-4 div.sk-parallel-item:only-child::after {width: 0;}#sk-container-id-4 div.sk-dashed-wrapped {border: 1px dashed gray;margin: 0 0.4em 0.5em 0.4em;box-sizing: border-box;padding-bottom: 0.4em;background-color: white;}#sk-container-id-4 div.sk-label label {font-family: monospace;font-weight: bold;display: inline-block;line-height: 1.2em;}#sk-container-id-4 div.sk-label-container {text-align: center;}#sk-container-id-4 div.sk-container {/* jupyter's `normalize.less` sets `[hidden] { display: none; }` but bootstrap.min.css set `[hidden] { display: none !important; }` so we also need the `!important` here to be able to override the default hidden behavior on the sphinx rendered scikit-learn.org. See: https://github.com/scikit-learn/scikit-learn/issues/21755 */display: inline-block !important;position: relative;}#sk-container-id-4 div.sk-text-repr-fallback {display: none;}</style><div id=\"sk-container-id-4\" class=\"sk-top-container\"><div class=\"sk-text-repr-fallback\"><pre>LinearRegression()</pre><b>In a Jupyter environment, please rerun this cell to show the HTML representation or trust the notebook. <br />On GitHub, the HTML representation is unable to render, please try loading this page with nbviewer.org.</b></div><div class=\"sk-container\" hidden><div class=\"sk-item\"><div class=\"sk-estimator sk-toggleable\"><input class=\"sk-toggleable__control sk-hidden--visually\" id=\"sk-estimator-id-4\" type=\"checkbox\" checked><label for=\"sk-estimator-id-4\" class=\"sk-toggleable__label sk-toggleable__label-arrow\">LinearRegression</label><div class=\"sk-toggleable__content\"><pre>LinearRegression()</pre></div></div></div></div></div>"
            ]
          },
          "metadata": {},
          "execution_count": 47
        }
      ],
      "source": [
        "from sklearn.preprocessing import PolynomialFeatures\n",
        "poly_features = PolynomialFeatures(degree=2, include_bias=False)\n",
        "XPoly=poly_features.fit_transform(data_prepared, )\n",
        "\n",
        "\n",
        "lin_reg_poly = LinearRegression()\n",
        "lin_reg_poly.fit(XPoly, data_labels)"
      ]
    },
    {
      "cell_type": "code",
      "execution_count": 48,
      "metadata": {
        "id": "jYtMXgLn5EIc",
        "outputId": "a55ca94b-f804-4dc4-cafc-61438fb1f15e",
        "colab": {
          "base_uri": "https://localhost:8080/"
        }
      },
      "outputs": [
        {
          "output_type": "execute_result",
          "data": {
            "text/plain": [
              "700.5368138788316"
            ]
          },
          "metadata": {},
          "execution_count": 48
        }
      ],
      "source": [
        "from sklearn.metrics import mean_squared_error\n",
        "\n",
        "data_predictions_ploy = lin_reg_poly.predict( poly_features.fit_transform(data_prepared))\n",
        "poly_rmse =np.sqrt( mean_squared_error(data_labels, data_predictions_ploy, ))\n",
        "poly_rmse"
      ]
    },
    {
      "cell_type": "code",
      "execution_count": 49,
      "metadata": {
        "id": "k4SuCDFd5EIc",
        "outputId": "8116d202-8279-4eec-9c2f-d949050d7332",
        "colab": {
          "base_uri": "https://localhost:8080/"
        }
      },
      "outputs": [
        {
          "output_type": "stream",
          "name": "stdout",
          "text": [
            "Scores: [1095.11549481 1180.20704803 1120.96289717 1108.48585362 1130.86197423\n",
            " 1093.76377914 1148.15569458 1124.18215385 1157.17151894 1102.72350575]\n",
            "Mean: 1126.1629920132293\n",
            "Standard deviation: 27.00844248560068\n"
          ]
        }
      ],
      "source": [
        "from sklearn.model_selection import cross_val_score\n",
        "scores = cross_val_score(lin_reg_poly, data_prepared, data_labels,\n",
        "                         scoring=\"neg_mean_squared_error\", cv=10)\n",
        "\n",
        "poly_rmse_scores = np.sqrt(-scores)\n",
        "poly_score=display_scores(poly_rmse_scores)"
      ]
    },
    {
      "cell_type": "markdown",
      "metadata": {
        "id": "nYZgM8-lxxYz"
      },
      "source": [
        "## SVR"
      ]
    },
    {
      "cell_type": "code",
      "execution_count": 50,
      "metadata": {
        "id": "pMsHn1lixyzr",
        "outputId": "cc783862-705b-432b-9cf3-716cb0fd11cc",
        "colab": {
          "base_uri": "https://localhost:8080/",
          "height": 74
        }
      },
      "outputs": [
        {
          "output_type": "execute_result",
          "data": {
            "text/plain": [
              "SVR(kernel='linear')"
            ],
            "text/html": [
              "<style>#sk-container-id-5 {color: black;background-color: white;}#sk-container-id-5 pre{padding: 0;}#sk-container-id-5 div.sk-toggleable {background-color: white;}#sk-container-id-5 label.sk-toggleable__label {cursor: pointer;display: block;width: 100%;margin-bottom: 0;padding: 0.3em;box-sizing: border-box;text-align: center;}#sk-container-id-5 label.sk-toggleable__label-arrow:before {content: \"▸\";float: left;margin-right: 0.25em;color: #696969;}#sk-container-id-5 label.sk-toggleable__label-arrow:hover:before {color: black;}#sk-container-id-5 div.sk-estimator:hover label.sk-toggleable__label-arrow:before {color: black;}#sk-container-id-5 div.sk-toggleable__content {max-height: 0;max-width: 0;overflow: hidden;text-align: left;background-color: #f0f8ff;}#sk-container-id-5 div.sk-toggleable__content pre {margin: 0.2em;color: black;border-radius: 0.25em;background-color: #f0f8ff;}#sk-container-id-5 input.sk-toggleable__control:checked~div.sk-toggleable__content {max-height: 200px;max-width: 100%;overflow: auto;}#sk-container-id-5 input.sk-toggleable__control:checked~label.sk-toggleable__label-arrow:before {content: \"▾\";}#sk-container-id-5 div.sk-estimator input.sk-toggleable__control:checked~label.sk-toggleable__label {background-color: #d4ebff;}#sk-container-id-5 div.sk-label input.sk-toggleable__control:checked~label.sk-toggleable__label {background-color: #d4ebff;}#sk-container-id-5 input.sk-hidden--visually {border: 0;clip: rect(1px 1px 1px 1px);clip: rect(1px, 1px, 1px, 1px);height: 1px;margin: -1px;overflow: hidden;padding: 0;position: absolute;width: 1px;}#sk-container-id-5 div.sk-estimator {font-family: monospace;background-color: #f0f8ff;border: 1px dotted black;border-radius: 0.25em;box-sizing: border-box;margin-bottom: 0.5em;}#sk-container-id-5 div.sk-estimator:hover {background-color: #d4ebff;}#sk-container-id-5 div.sk-parallel-item::after {content: \"\";width: 100%;border-bottom: 1px solid gray;flex-grow: 1;}#sk-container-id-5 div.sk-label:hover label.sk-toggleable__label {background-color: #d4ebff;}#sk-container-id-5 div.sk-serial::before {content: \"\";position: absolute;border-left: 1px solid gray;box-sizing: border-box;top: 0;bottom: 0;left: 50%;z-index: 0;}#sk-container-id-5 div.sk-serial {display: flex;flex-direction: column;align-items: center;background-color: white;padding-right: 0.2em;padding-left: 0.2em;position: relative;}#sk-container-id-5 div.sk-item {position: relative;z-index: 1;}#sk-container-id-5 div.sk-parallel {display: flex;align-items: stretch;justify-content: center;background-color: white;position: relative;}#sk-container-id-5 div.sk-item::before, #sk-container-id-5 div.sk-parallel-item::before {content: \"\";position: absolute;border-left: 1px solid gray;box-sizing: border-box;top: 0;bottom: 0;left: 50%;z-index: -1;}#sk-container-id-5 div.sk-parallel-item {display: flex;flex-direction: column;z-index: 1;position: relative;background-color: white;}#sk-container-id-5 div.sk-parallel-item:first-child::after {align-self: flex-end;width: 50%;}#sk-container-id-5 div.sk-parallel-item:last-child::after {align-self: flex-start;width: 50%;}#sk-container-id-5 div.sk-parallel-item:only-child::after {width: 0;}#sk-container-id-5 div.sk-dashed-wrapped {border: 1px dashed gray;margin: 0 0.4em 0.5em 0.4em;box-sizing: border-box;padding-bottom: 0.4em;background-color: white;}#sk-container-id-5 div.sk-label label {font-family: monospace;font-weight: bold;display: inline-block;line-height: 1.2em;}#sk-container-id-5 div.sk-label-container {text-align: center;}#sk-container-id-5 div.sk-container {/* jupyter's `normalize.less` sets `[hidden] { display: none; }` but bootstrap.min.css set `[hidden] { display: none !important; }` so we also need the `!important` here to be able to override the default hidden behavior on the sphinx rendered scikit-learn.org. See: https://github.com/scikit-learn/scikit-learn/issues/21755 */display: inline-block !important;position: relative;}#sk-container-id-5 div.sk-text-repr-fallback {display: none;}</style><div id=\"sk-container-id-5\" class=\"sk-top-container\"><div class=\"sk-text-repr-fallback\"><pre>SVR(kernel=&#x27;linear&#x27;)</pre><b>In a Jupyter environment, please rerun this cell to show the HTML representation or trust the notebook. <br />On GitHub, the HTML representation is unable to render, please try loading this page with nbviewer.org.</b></div><div class=\"sk-container\" hidden><div class=\"sk-item\"><div class=\"sk-estimator sk-toggleable\"><input class=\"sk-toggleable__control sk-hidden--visually\" id=\"sk-estimator-id-5\" type=\"checkbox\" checked><label for=\"sk-estimator-id-5\" class=\"sk-toggleable__label sk-toggleable__label-arrow\">SVR</label><div class=\"sk-toggleable__content\"><pre>SVR(kernel=&#x27;linear&#x27;)</pre></div></div></div></div></div>"
            ]
          },
          "metadata": {},
          "execution_count": 50
        }
      ],
      "source": [
        "from sklearn.svm import SVR\n",
        "\n",
        "svm_reg = SVR(kernel=\"linear\")\n",
        "svm_reg.fit(data_prepared, data_labels)\n"
      ]
    },
    {
      "cell_type": "code",
      "execution_count": 51,
      "metadata": {
        "colab": {
          "base_uri": "https://localhost:8080/"
        },
        "id": "z3KdFR5Dx5Gx",
        "outputId": "93a6ef1d-bd8f-4b4e-baa8-c937d12773f5"
      },
      "outputs": [
        {
          "output_type": "execute_result",
          "data": {
            "text/plain": [
              "1383.6601387351966"
            ]
          },
          "metadata": {},
          "execution_count": 51
        }
      ],
      "source": [
        "from sklearn.metrics import mean_squared_error\n",
        "\n",
        "data_predictions_svm = svm_reg.predict(data_prepared)\n",
        "svm_rmse =np.sqrt( mean_squared_error(data_labels, data_predictions_svm, ))\n",
        "svm_rmse"
      ]
    },
    {
      "cell_type": "code",
      "execution_count": 52,
      "metadata": {
        "id": "ZH85digCyGOB",
        "outputId": "f5265564-cf09-4eb5-a7a8-7bd45d68d4a9",
        "colab": {
          "base_uri": "https://localhost:8080/"
        }
      },
      "outputs": [
        {
          "output_type": "stream",
          "name": "stdout",
          "text": [
            "Scores: [1384.94318593 1477.25599956 1353.35373295 1350.68650687 1416.62462944\n",
            " 1362.58933813 1407.31449847 1359.15314791 1468.76879853 1384.82104724]\n",
            "Mean: 1396.5510885044016\n",
            "Standard deviation: 43.636445139547384\n"
          ]
        }
      ],
      "source": [
        "from sklearn.model_selection import cross_val_score\n",
        "scores = cross_val_score(svm_reg, data_prepared, data_labels,\n",
        "                         scoring=\"neg_mean_squared_error\", cv=10)\n",
        "\n",
        "svr_rmse_scores = np.sqrt(-scores)\n",
        "svr_score=display_scores(svr_rmse_scores)"
      ]
    },
    {
      "cell_type": "markdown",
      "metadata": {
        "id": "FqanD6MP2Vv9"
      },
      "source": [
        "# Comparing Results"
      ]
    },
    {
      "cell_type": "code",
      "execution_count": 54,
      "metadata": {
        "id": "g1q8Eo8f17_b",
        "outputId": "8c1ddffc-1a4a-471e-b71e-d3d697cc1183",
        "colab": {
          "base_uri": "https://localhost:8080/",
          "height": 448
        }
      },
      "outputs": [
        {
          "output_type": "execute_result",
          "data": {
            "text/plain": [
              "<Axes: >"
            ]
          },
          "metadata": {},
          "execution_count": 54
        },
        {
          "output_type": "display_data",
          "data": {
            "text/plain": [
              "<Figure size 640x480 with 1 Axes>"
            ],
            "image/png": "[encoded data removed]"
          },
          "metadata": {}
        }
      ],
      "source": [
        "models_names=['LR','DT','RF','SVR','Poly']\n",
        "models_scores=[linear_score,decision_tree_score,random_forest_score,svr_score,poly_score]\n",
        "\n",
        "sns.barplot(x=models_names,y=models_scores,hue=models_names)"
      ]
    },
    {
      "cell_type": "markdown",
      "metadata": {
        "id": "d7INgNQS5EIe"
      },
      "source": [
        "# Tuning"
      ]
    },
    {
      "cell_type": "code",
      "execution_count": null,
      "metadata": {
        "id": "TYJfSf8B5EIe"
      },
      "outputs": [],
      "source": [
        "from sklearn.model_selection import RandomizedSearchCV\n",
        "\n",
        "param_distribs = {\n",
        "        'n_estimators': np.random.randint(300, 400, 10),\n",
        "        'max_features': np.random.randint(1,10 , 10),\n",
        "    }\n",
        "\n",
        "forest_reg = RandomForestRegressor(random_state=42)\n",
        "rnd_search = RandomizedSearchCV(forest_reg, param_distributions=param_distribs,\n",
        "                                n_iter=20, cv=5, scoring='neg_mean_squared_error', random_state=42)\n",
        "rnd_search.fit(data_prepared, data_labels)"
      ]
    },
    {
      "cell_type": "code",
      "execution_count": null,
      "metadata": {
        "id": "wypTCk0S5EIe",
        "outputId": "1ec997a0-905b-4509-9580-6d9cc800de87"
      },
      "outputs": [
        {
          "data": {
            "text/plain": [
              "563.1230932193176"
            ]
          },
          "execution_count": 156,
          "metadata": {},
          "output_type": "execute_result"
        }
      ],
      "source": [
        "np.sqrt(-rnd_search.best_score_)"
      ]
    },
    {
      "cell_type": "code",
      "execution_count": null,
      "metadata": {
        "id": "wFwdQ0ll5EIf",
        "outputId": "d592480b-4eee-4853-d7cb-b2e1deea3403"
      },
      "outputs": [
        {
          "name": "stdout",
          "output_type": "stream",
          "text": [
            "<bound method BaseEstimator.get_params of RandomizedSearchCV(cv=5, estimator=RandomForestRegressor(random_state=42),\n",
            "                   n_iter=30,\n",
            "                   param_distributions={'max_features': array([1, 6, 2, 3, 2, 3, 3, 3, 6, 2]),\n",
            "                                        'n_estimators': array([341, 325, 271, 313, 199, 284, 241, 201, 194, 290])},\n",
            "                   random_state=42, scoring='neg_mean_squared_error')>\n"
          ]
        }
      ],
      "source": [
        "print(rnd_search.get_params)"
      ]
    },
    {
      "cell_type": "code",
      "execution_count": null,
      "metadata": {
        "id": "33vPVJNr5EIf",
        "outputId": "18e6cfe5-6b06-476f-9947-f0f3210e0619"
      },
      "outputs": [
        {
          "name": "stdout",
          "output_type": "stream",
          "text": [
            "RandomForestRegressor(max_features=6, n_estimators=341, random_state=42)\n"
          ]
        }
      ],
      "source": [
        "print(rnd_search.best_estimator_)"
      ]
    },
    {
      "cell_type": "code",
      "execution_count": null,
      "metadata": {
        "id": "5EOcLHHA5EIf",
        "outputId": "6f313433-df4a-4067-93a2-c3cbf36034d5"
      },
      "outputs": [
        {
          "name": "stdout",
          "output_type": "stream",
          "text": [
            "563.2308420215246 {'n_estimators': 313, 'max_features': 6}\n",
            "586.6545050881039 {'n_estimators': 313, 'max_features': 3}\n",
            "586.4850728572185 {'n_estimators': 341, 'max_features': 3}\n",
            "626.0371335591295 {'n_estimators': 284, 'max_features': 2}\n",
            "627.8724785418729 {'n_estimators': 199, 'max_features': 2}\n",
            "586.7714404541081 {'n_estimators': 290, 'max_features': 3}\n",
            "626.233133293 {'n_estimators': 271, 'max_features': 2}\n",
            "563.1230932193176 {'n_estimators': 341, 'max_features': 6}\n",
            "563.1230932193176 {'n_estimators': 341, 'max_features': 6}\n",
            "722.1765941437241 {'n_estimators': 341, 'max_features': 1}\n",
            "563.790740469313 {'n_estimators': 194, 'max_features': 6}\n",
            "586.4850728572185 {'n_estimators': 341, 'max_features': 3}\n",
            "586.6545050881039 {'n_estimators': 313, 'max_features': 3}\n",
            "586.6545050881039 {'n_estimators': 313, 'max_features': 3}\n",
            "625.3864496092305 {'n_estimators': 341, 'max_features': 2}\n",
            "722.544700312357 {'n_estimators': 199, 'max_features': 1}\n",
            "587.3844901512657 {'n_estimators': 241, 'max_features': 3}\n",
            "587.4140207626822 {'n_estimators': 201, 'max_features': 3}\n",
            "563.4762009420821 {'n_estimators': 271, 'max_features': 6}\n",
            "586.4946242545312 {'n_estimators': 325, 'max_features': 3}\n",
            "586.8708622838844 {'n_estimators': 284, 'max_features': 3}\n",
            "563.790740469313 {'n_estimators': 194, 'max_features': 6}\n",
            "627.5367555688941 {'n_estimators': 241, 'max_features': 2}\n",
            "626.233133293 {'n_estimators': 271, 'max_features': 2}\n",
            "586.7714404541081 {'n_estimators': 290, 'max_features': 3}\n",
            "563.4985880157107 {'n_estimators': 284, 'max_features': 6}\n",
            "625.3864496092305 {'n_estimators': 341, 'max_features': 2}\n",
            "627.5367555688941 {'n_estimators': 241, 'max_features': 2}\n",
            "723.3791486476456 {'n_estimators': 290, 'max_features': 1}\n",
            "587.0007938348277 {'n_estimators': 271, 'max_features': 3}\n"
          ]
        }
      ],
      "source": [
        "cvres = rnd_search.cv_results_\n",
        "for mean_score, params in zip(cvres[\"mean_test_score\"], cvres[\"params\"]):\n",
        "    print(np.sqrt(-mean_score), params)"
      ]
    },
    {
      "cell_type": "code",
      "execution_count": null,
      "metadata": {
        "id": "-reJ7gj25EIg"
      },
      "outputs": [],
      "source": [
        "best_estimator=rnd_search.best_estimator_"
      ]
    },
    {
      "cell_type": "markdown",
      "metadata": {
        "id": "2BoIqafI5EIg"
      },
      "source": [
        "# Testing"
      ]
    },
    {
      "cell_type": "code",
      "execution_count": null,
      "metadata": {
        "id": "b_JzwyOe5EIh",
        "outputId": "d5a5766a-d745-4fb4-d458-40b0810fff50"
      },
      "outputs": [
        {
          "name": "stdout",
          "output_type": "stream",
          "text": [
            "          Id  carat        cut color clarity  depth  table  price     x     y  \\\n",
            "14768  14769   2.02      Ideal     J     SI1   59.8   60.0  12713  8.21  8.16   \n",
            "33287  33288   1.50    Premium     G     VS1   60.2   58.0  13720  7.41  7.38   \n",
            "2181    2182   1.04    Premium     E     VS2   61.1   59.0   7175  6.56  6.54   \n",
            "27850  27851   0.30    Premium     E     VS2   62.5   58.0    844  4.31  4.26   \n",
            "13752  13753   1.03    Premium     I     SI1   62.0   58.0   4326  6.47  6.43   \n",
            "...      ...    ...        ...   ...     ...    ...    ...    ...   ...   ...   \n",
            "16604  16605   1.07      Ideal     F     VS2   62.0   57.0   6459  6.50  6.47   \n",
            "40456  40457   0.32    Premium     J     VS1   61.7   58.0    540  4.40  4.38   \n",
            "35782  35783   1.21  Very Good     G     SI2   62.8   60.0   5558  6.70  6.77   \n",
            "20632  20633   1.02      Ideal     E     SI2   61.6   55.0   4824  6.46  6.52   \n",
            "1632    1633   1.53    Premium     G     SI1   58.4   59.0   9476  7.62  7.55   \n",
            "\n",
            "          z  \n",
            "14768  4.90  \n",
            "33287  4.45  \n",
            "2181   4.00  \n",
            "27850  2.68  \n",
            "13752  4.00  \n",
            "...     ...  \n",
            "16604  4.08  \n",
            "40456  2.71  \n",
            "35782  4.23  \n",
            "20632  4.00  \n",
            "1632   4.43  \n",
            "\n",
            "[8631 rows x 11 columns]\n"
          ]
        }
      ],
      "source": [
        "print(test_set)"
      ]
    },
    {
      "cell_type": "code",
      "execution_count": null,
      "metadata": {
        "id": "8Okf3qeN5EIh",
        "outputId": "cb03f5d7-0897-4503-abeb-fa88323266e4"
      },
      "outputs": [
        {
          "name": "stdout",
          "output_type": "stream",
          "text": [
            "634.6684558669231\n"
          ]
        }
      ],
      "source": [
        "\n",
        "testingLabels= test_set['price']\n",
        "testingSamples = test_set.drop('price',axis=1)\n",
        "\n",
        "testing_prepared = full_pipeline.fit_transform(testingSamples.drop('Id',axis=1))\n",
        "testing_predictions = best_estimator.predict(testing_prepared)\n",
        "print(np.sqrt( mean_squared_error(testingLabels, testing_predictions, )))\n"
      ]
    },
    {
      "cell_type": "code",
      "execution_count": null,
      "metadata": {
        "id": "JDso5t1N5EIi",
        "outputId": "eabbf3ab-0262-428e-e2ef-36a7c762d90b"
      },
      "outputs": [
        {
          "name": "stdout",
          "output_type": "stream",
          "text": [
            "-----------------------------------------------------------------------\n",
            "       Actual     Predicted\n",
            "2328     4158   4020.275676\n",
            "42821     749    616.902703\n",
            "40874    4082   4016.578378\n",
            "28544     769    626.210811\n",
            "19658    1226   1392.351351\n",
            "9084     4113   4423.281081\n",
            "22303    8827   8608.627027\n",
            "36301   13828  12064.216216\n",
            "26002     458    523.935135\n",
            "4772     1599   1666.200000\n",
            "40936   11795  15000.702703\n",
            "25996    9370   9140.403604\n",
            "13889     954    864.264865\n",
            "38785    1016    766.421622\n",
            "369       639    675.132973\n",
            "-----------------------------------------------------------------------\n"
          ]
        },
        {
          "data": {
            "image/png": "[encoded data removed]",
            "text/plain": [
              "<Figure size 1200x800 with 1 Axes>"
            ]
          },
          "metadata": {},
          "output_type": "display_data"
        }
      ],
      "source": [
        "# Comparison of the actual results with the predicted results\n",
        "print(\"-----------------------------------------------------------------------\")\n",
        "df_data_lr = pd.DataFrame({\"Actual\":  testingLabels, \"Predicted\": testing_predictions})\n",
        "print(df_data_lr.sample(15))\n",
        "print(\"-----------------------------------------------------------------------\")\n",
        "\n",
        "df_data_lr1 = df_data_lr.head(25)\n",
        "df_data_lr1.plot(kind=\"bar\",figsize=(12,8),)\n",
        "plt.grid(which=\"major\", linestyle=\"-\", linewidth=\"0.5\", color=\"green\")\n",
        "plt.grid(which=\"minor\", linestyle=\":\", linewidth=\"0.5\", color=\"black\")\n",
        "plt.show()\n"
      ]
    },
    {
      "cell_type": "markdown",
      "metadata": {
        "id": "EI8VyZyiQgG7"
      },
      "source": [
        "# Testing on real data"
      ]
    },
    {
      "cell_type": "code",
      "execution_count": null,
      "metadata": {
        "id": "GDvzWE26Iau_"
      },
      "outputs": [],
      "source": [
        "test_path = '/content/gdrive/MyDrive/datasets/diamond/train.csv'"
      ]
    },
    {
      "cell_type": "code",
      "execution_count": null,
      "metadata": {
        "colab": {
          "base_uri": "https://localhost:8080/"
        },
        "id": "a5qBxSCUJVSt",
        "outputId": "468dc8e2-f231-4091-a623-07c767295287"
      },
      "outputs": [
        {
          "name": "stdout",
          "output_type": "stream",
          "text": [
            "          Id  carat        cut color clarity  depth  table     x     y     z\n",
            "0          1   0.34      Ideal     G    VVS2   61.1   57.0  4.52  4.48  2.75\n",
            "1          2   0.71    Premium     E     VS2   62.7   58.0  5.74  5.68  3.58\n",
            "2          3   0.44  Very Good     I     VS1   62.8   56.0  4.83  4.88  3.05\n",
            "3          4   0.81    Premium     E     SI2   60.1   59.0  6.09  6.03  3.65\n",
            "4          5   0.40      Ideal     G    VVS1   61.2   56.0  4.74  4.80  2.92\n",
            "...      ...    ...        ...   ...     ...    ...    ...   ...   ...   ...\n",
            "10783  10784   0.57      Ideal     H     VS1   60.9   56.0  5.34  5.36  3.26\n",
            "10784  10785   1.05      Ideal     G     VS2   60.8   57.0  6.65  6.58  4.02\n",
            "10785  10786   0.71      Ideal     E    VVS1   62.3   55.0  5.68  5.72  3.55\n",
            "10786  10787   1.11    Premium     E     SI2   61.0   60.0  6.68  6.66  4.07\n",
            "10787  10788   2.00    Premium     F     SI2   61.5   59.0  8.03  7.95  4.92\n",
            "\n",
            "[10788 rows x 10 columns]\n",
            "          Id         price\n",
            "0          1    968.935135\n",
            "1          2   2888.145946\n",
            "2          3    822.156757\n",
            "3          4   2812.659459\n",
            "4          5   1129.967568\n",
            "...      ...           ...\n",
            "10783  10784   1764.297297\n",
            "10784  10785   6647.513514\n",
            "10785  10786   4279.724324\n",
            "10786  10787   4904.362162\n",
            "10787  10788  13738.551351\n",
            "\n",
            "[10788 rows x 2 columns]\n"
          ]
        }
      ],
      "source": [
        "\n",
        "real_test=pd.read_csv(test_path)\n",
        "print(real_test)\n",
        "\n",
        "ids=real_test['Id']\n",
        "test_data_prepared = full_pipeline.fit_transform(real_test.drop('Id',axis=1))\n",
        "real_test_predictions_fr = best_estimator.predict(test_data_prepared)\n",
        "\n",
        "res={'Id':ids,'price':real_test_predictions_fr}\n",
        "res_df = pd.DataFrame(res)\n",
        "print(res_df)\n",
        "res_df.to_csv('sub.csv',index=False)"
      ]
    },
    {
      "cell_type": "code",
      "execution_count": null,
      "metadata": {
        "id": "wWFVVKUoLLVK"
      },
      "outputs": [],
      "source": []
    }
  ],
  "metadata": {
    "accelerator": "GPU",
    "colab": {
      "collapsed_sections": [
        "vPpe4mqH5EIb",
        "nYZgM8-lxxYz",
        "FqanD6MP2Vv9",
        "2BoIqafI5EIg",
        "EI8VyZyiQgG7"
      ],
      "gpuType": "T4",
      "provenance": [],
      "toc_visible": true
    },
    "kernelspec": {
      "display_name": "Python 3",
      "name": "python3"
    },
    "language_info": {
      "codemirror_mode": {
        "name": "ipython",
        "version": 3
      },
      "file_extension": ".py",
      "mimetype": "text/x-python",
      "name": "python",
      "nbconvert_exporter": "python",
      "pygments_lexer": "ipython3",
      "version": "3.12.1"
    }
  },
  "nbformat": 4,
  "nbformat_minor": 0
}